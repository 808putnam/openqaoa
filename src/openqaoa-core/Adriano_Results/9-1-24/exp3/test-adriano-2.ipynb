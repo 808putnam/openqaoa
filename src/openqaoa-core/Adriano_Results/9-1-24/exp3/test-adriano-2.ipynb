{
 "cells": [
  {
   "cell_type": "code",
   "execution_count": 10,
   "id": "72c89e80-f17f-4cfd-a225-3073265e267c",
   "metadata": {},
   "outputs": [
    {
     "name": "stdout",
     "output_type": "stream",
     "text": [
      "{'problem_type': 'knapsack', 'values': [9, 1, 1, 1, 9, 8, 6, 4, 6, 3], 'weights': [5, 6, 1, 1, 4, 1, 2, 6, 7, 6], 'weight_capacity': 16, 'penalty': 18, 'n_items': 10}\n"
     ]
    }
   ],
   "source": [
    "import networkx as nx\n",
    "\n",
    "from openqaoa.problems import Knapsack\n",
    "#Inner OpenQAOA function for ploting graphs\n",
    "#plot_graph(graph)\n",
    "\n",
    "# Create a MaximumCut instance from the graph and get its QUBO and hamiltonian\n",
    "knapsack_prob = Knapsack(values=[9, 1, 1, 1, 9, 8, 6, 4, 6, 3],weights=[5, 6, 1, 1, 4, 1, 2, 6, 7, 6],weight_capacity=16,penalty=18)\n",
    "print(knapsack_prob.problem_instance)\n",
    "knapsack_qubo = knapsack_prob.qubo\n",
    "knapsack_hamiltonian = knapsack_qubo.hamiltonian"
   ]
  },
  {
   "cell_type": "code",
   "execution_count": null,
   "id": "419fc561-f24f-4296-9d68-50160ee75623",
   "metadata": {},
   "outputs": [],
   "source": [
    "{'problem_type': 'knapsack', 'values': [9, 1, 1, 1, 9, 8, 6, 4, 6, 3], 'weights': [5, 6, 1, 1, 4, 1, 2, 6, 7, 6], 'weight_capacity': 16, 'penalty': 18, 'n_items': 10}"
   ]
  },
  {
   "cell_type": "code",
   "execution_count": null,
   "id": "b99cdcc2-ec23-4623-acd8-ac8ef88ab6a5",
   "metadata": {},
   "outputs": [
    {
     "name": "stderr",
     "output_type": "stream",
     "text": [
      "  0%|                                                                                            | 0/4 [00:00<?, ?it/s]\n",
      "  0%|                                                                                            | 0/3 [00:00<?, ?it/s]\u001b[A\n",
      "\n",
      "  0%|                                                                                            | 0/2 [00:00<?, ?it/s]\u001b[A\u001b[A\n",
      "\n",
      "\n",
      "  0%|                                                                                            | 0/2 [00:00<?, ?it/s]\u001b[A\u001b[A\u001b[A\n",
      "\n",
      "\n",
      "\n",
      "100%|████████████████████████████████████████████████████████████████████████████████████████████| 3/3 [00:00<?, ?it/s]\u001b[A\u001b[A\u001b[A\u001b[A\n"
     ]
    },
    {
     "name": "stdout",
     "output_type": "stream",
     "text": [
      "params = 3-standard-rand-x-Nelder-Mead\n",
      "itr  1\n",
      "params = 3-standard-rand-x-Powell\n",
      "itr  2\n",
      "params = 3-standard-rand-x-COBYLA\n",
      "itr  3\n"
     ]
    },
    {
     "name": "stderr",
     "output_type": "stream",
     "text": [
      "\n",
      "\n",
      "\n",
      "\n",
      "100%|████████████████████████████████████████████████████████████████████████████████████████████| 3/3 [00:00<?, ?it/s]\u001b[A\u001b[A\u001b[A\u001b[A\n",
      "100%|███████████████████████████████████████████████████████████████████████████████████| 2/2 [00:00<00:00, 123.10it/s]\n"
     ]
    },
    {
     "name": "stdout",
     "output_type": "stream",
     "text": [
      "params = 3-standard-rand-xy-Nelder-Mead\n",
      "itr  4\n",
      "params = 3-standard-rand-xy-Powell\n",
      "itr  5\n",
      "params = 3-standard-rand-xy-COBYLA\n",
      "itr  6\n"
     ]
    },
    {
     "name": "stderr",
     "output_type": "stream",
     "text": [
      "\n",
      "\n",
      "\n",
      "  0%|                                                                                            | 0/2 [00:00<?, ?it/s]\u001b[A\u001b[A\u001b[A\n",
      "\n",
      "\n",
      "\n",
      "100%|██████████████████████████████████████████████████████████████████████████████████| 3/3 [00:00<00:00, 5971.96it/s]\u001b[A\u001b[A\u001b[A\u001b[A\n"
     ]
    },
    {
     "name": "stdout",
     "output_type": "stream",
     "text": [
      "params = 3-standard-ramp-x-Nelder-Mead\n",
      "itr  7\n",
      "params = 3-standard-ramp-x-Powell\n",
      "itr  8\n",
      "params = 3-standard-ramp-x-COBYLA\n",
      "itr  9\n"
     ]
    },
    {
     "name": "stderr",
     "output_type": "stream",
     "text": [
      "\n",
      "\n",
      "\n",
      "\n",
      "  0%|                                                                                            | 0/3 [00:00<?, ?it/s]\u001b[A\u001b[A\u001b[A\u001b[A"
     ]
    },
    {
     "name": "stdout",
     "output_type": "stream",
     "text": [
      "params = 3-standard-ramp-xy-Nelder-Mead\n",
      "itr  10\n",
      "params = 3-standard-ramp-xy-Powell\n",
      "itr  11\n"
     ]
    }
   ],
   "source": [
    "from tqdm import tqdm\n",
    "from openqaoa.backends import create_device\n",
    "from openqaoa import QAOA\n",
    "from openqaoa.utilities import ground_state_hamiltonian\n",
    "import matplotlib.pyplot as plt\n",
    "\n",
    "itr = 0\n",
    "yahice = [1,2,3,4,5,6,7,8,9,10]\n",
    "ps = [3, 4, 5, 6]\n",
    "param_types = [\"standard\", \"standard_w_bias\", \"extended\"]\n",
    "init_types = [\"rand\", \"ramp\"]\n",
    "mixer_hams = [\"x\", \"xy\"]\n",
    "optimizers = [\"Nelder-Mead\", \"Powell\", \"COBYLA\"]\n",
    "for p in tqdm(ps):\n",
    "    for param_type in tqdm(param_types):\n",
    "        for init_type in tqdm(init_types):\n",
    "            for mixer_hamiltonian in tqdm(mixer_hams):\n",
    "                for optimizer in tqdm(optimizers):\n",
    "                    print(\"params = %s-%s-%s-%s-%s\" % (str(p), str(param_type), str(init_type), str(mixer_hamiltonian), str(optimizer)))\n",
    "                    itr = itr+1\n",
    "                    print('itr ',itr)\n",
    "                    if itr in yahice:\n",
    "                        continue\n",
    "                    \n",
    "                    q1 = QAOA()\n",
    "                    qiskit_device = create_device(location='local', name='qiskit.shot_simulator')\n",
    "                    q1.set_device(qiskit_device)\n",
    "                    q1.set_circuit_properties(p=p, param_type=param_type, init_type=init_type, mixer_hamiltonian=mixer_hamiltonian)\n",
    "                    q1.set_backend_properties(n_shots=5000, seed_simulator=1)\n",
    "                    q1.set_classical_optimizer(method=optimizer, maxiter=200, tol=0.001,\n",
    "                    optimization_progress=True, cost_progress=True, parameter_log=True)\n",
    "                    q1.compile(knapsack_qubo)\n",
    "                    q1.optimize()\n",
    "                    correct_solution1 = ground_state_hamiltonian(q1.cost_hamil)\n",
    "                    print(correct_solution1)\n",
    "                    opt_results1 = q1.result\n",
    "                    '''\n",
    "                    noise_model = add_depolarizing_error(NoiseModel(),0.1)\n",
    "                    q2 = QAOA()\n",
    "                    qiskit_device = create_device(location='local', name='qiskit.shot_simulator')\n",
    "                    q2.set_device(qiskit_device)\n",
    "                    q2.set_circuit_properties(p=p, param_type=param_type, init_type=init_type, mixer_hamiltonian=mixer_hamiltonian)\n",
    "                    q2.set_classical_optimizer(method=optimizer, maxiter=200, tol=0.001,\n",
    "                                            optimization_progress=True, cost_progress=True, parameter_log=True)\n",
    "                    q2.set_backend_properties(n_shots=5000, seed_simulator=1,\n",
    "                                            noise_model=noise_model)\n",
    "                    q2.compile(knapsack_qubo)\n",
    "                    q2.optimize()\n",
    "                    correct_solution2 = ground_state_hamiltonian(q2.cost_hamil)\n",
    "                    opt_results2 = q2.result\n",
    "                    print(correct_solution2)\n",
    "                    qiskit_device = create_device(location='local', name='qiskit.shot_simulator')\n",
    "                    q3 = QAOA()\n",
    "                    q3.set_device(qiskit_device)\n",
    "                    q3.set_circuit_properties(p=p, param_type=param_type, init_type=init_type, mixer_hamiltonian=mixer_hamiltonian)\n",
    "                    q3.set_classical_optimizer(method=optimizer, maxiter=200, tol=0.001,\n",
    "                                            optimization_progress=True, cost_progress=True, parameter_log=True)\n",
    "                    q3.set_backend_properties(n_shots=5000, seed_simulator=1, noise_model=noise_model)\n",
    "                    q3.set_error_mitigation_properties(error_mitigation_technique='mitiq_zne',n_batches=64,calibration_data_location=\"caldata.json\")\n",
    "                    q3.compile(knapsack_qubo)\n",
    "                    q3.optimize()\n",
    "                    correct_solution3 = ground_state_hamiltonian(q3.cost_hamil)\n",
    "                    print(correct_solution3)\n",
    "                    opt_results3 = q3.result\n",
    "                    '''\n",
    "                    #plot_cost(opt_results2,)\n",
    "\n",
    "                    fig, ax = plt.subplots(figsize=(7,4))\n",
    "                    opt_results1.plot_cost(figsize=(7,4),color='blue',label='qaoa',ax=ax)\n",
    "                    #opt_results2.plot_cost(figsize=(7,4),color='red',label='qaoa+noise',ax=ax)\n",
    "                    #opt_results3.plot_cost(figsize=(7,4),color='green',label='qaoa+noise+zne',ax=ax)\n",
    "                    plt.savefig(\"%s-%s-%s-%s-%s-1.png\" % (str(p), str(param_type), str(init_type), str(mixer_hamiltonian), str(optimizer)))\n",
    "                    fig2, ax2 = plt.subplots(figsize=(7,4))\n",
    "                    #opt_results2.plot_cost(figsize=(7,4),color='red',label='qaoa+noise',ax=ax2)\n",
    "                    #opt_results3.plot_cost(figsize=(7,4),color='green',label='qaoa+noise+zne',ax=ax2)\n",
    "                    #plt.savefig(\"%s-%s-%s-%s-%s-2.png\" % (str(p), str(param_type), str(init_type), str(mixer_hamiltonian), str(optimizer)))"
   ]
  }
 ],
 "metadata": {
  "kernelspec": {
   "display_name": "Python 3 (ipykernel)",
   "language": "python",
   "name": "python3"
  },
  "language_info": {
   "codemirror_mode": {
    "name": "ipython",
    "version": 3
   },
   "file_extension": ".py",
   "mimetype": "text/x-python",
   "name": "python",
   "nbconvert_exporter": "python",
   "pygments_lexer": "ipython3",
   "version": "3.8.18"
  }
 },
 "nbformat": 4,
 "nbformat_minor": 5
}
