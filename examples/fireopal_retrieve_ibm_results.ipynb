{
 "cells": [
  {
   "cell_type": "code",
   "execution_count": 43,
   "metadata": {
    "execution": {
     "iopub.execute_input": "2023-04-19T04:20:16.175551Z",
     "iopub.status.busy": "2023-04-19T04:20:16.175193Z",
     "iopub.status.idle": "2023-04-19T04:20:21.093322Z",
     "shell.execute_reply": "2023-04-19T04:20:21.092333Z",
     "shell.execute_reply.started": "2023-04-19T04:20:16.175525Z"
    }
   },
   "outputs": [],
   "source": [
    "from openqaoa.problems import MaximumCut\n",
    "from openqaoa.backends import create_device\n",
    "from openqaoa import QAOA\n",
    "import networkx as nx\n",
    "from qiskit.tools.visualization import plot_histogram\n",
    "from openqaoa.utilities import random_k_regular_graph, plot_graph, flip_counts"
   ]
  },
  {
   "cell_type": "code",
   "execution_count": 24,
   "metadata": {
    "execution": {
     "iopub.execute_input": "2023-04-19T04:14:12.487653Z",
     "iopub.status.busy": "2023-04-19T04:14:12.487261Z",
     "iopub.status.idle": "2023-04-19T04:14:12.491151Z",
     "shell.execute_reply": "2023-04-19T04:14:12.490283Z",
     "shell.execute_reply.started": "2023-04-19T04:14:12.487625Z"
    }
   },
   "outputs": [],
   "source": [
    "from qiskit_ibm_provider import IBMProvider"
   ]
  },
  {
   "cell_type": "code",
   "execution_count": 25,
   "metadata": {
    "execution": {
     "iopub.execute_input": "2023-04-19T04:14:12.838241Z",
     "iopub.status.busy": "2023-04-19T04:14:12.837822Z",
     "iopub.status.idle": "2023-04-19T04:14:22.497817Z",
     "shell.execute_reply": "2023-04-19T04:14:22.496928Z",
     "shell.execute_reply.started": "2023-04-19T04:14:12.838208Z"
    }
   },
   "outputs": [],
   "source": [
    "provider = IBMProvider(hub)"
   ]
  },
  {
   "cell_type": "code",
   "execution_count": 31,
   "metadata": {
    "execution": {
     "iopub.execute_input": "2023-04-19T04:18:29.958211Z",
     "iopub.status.busy": "2023-04-19T04:18:29.957796Z",
     "iopub.status.idle": "2023-04-19T04:18:31.170077Z",
     "shell.execute_reply": "2023-04-19T04:18:31.168875Z",
     "shell.execute_reply.started": "2023-04-19T04:18:29.958183Z"
    }
   },
   "outputs": [],
   "source": [
    "# Set the start time for the job retrieval\n",
    "start_time = '2023-04-18T00:00:00Z'  # format: YYYY-MM-DDTHH:MM:SSZ\n",
    "\n",
    "# Retrieve all jobs submitted after the start time\n",
    "jobs = provider.jobs(start_datetime=start_time,status=\"completed\",backend_name=\"ibm_lagos\",limit=100)\n",
    "\n",
    "# Print information about the retrieved jobs\n",
    "# for job in jobs:\n",
    "#     print(f'Job ID: {job.job_id()}, Status: {job.status()}, Creation date: {job.creation_date()}')"
   ]
  },
  {
   "cell_type": "code",
   "execution_count": 44,
   "metadata": {
    "execution": {
     "iopub.execute_input": "2023-04-19T04:20:32.392527Z",
     "iopub.status.busy": "2023-04-19T04:20:32.391584Z",
     "iopub.status.idle": "2023-04-19T04:20:45.317596Z",
     "shell.execute_reply": "2023-04-19T04:20:45.316636Z",
     "shell.execute_reply.started": "2023-04-19T04:20:32.392490Z"
    }
   },
   "outputs": [],
   "source": [
    "retrieved_measurements = [job.result().get_counts() for job in jobs]"
   ]
  },
  {
   "cell_type": "code",
   "execution_count": 65,
   "metadata": {
    "execution": {
     "iopub.execute_input": "2023-04-19T04:29:38.391999Z",
     "iopub.status.busy": "2023-04-19T04:29:38.391579Z",
     "iopub.status.idle": "2023-04-19T04:29:38.399448Z",
     "shell.execute_reply": "2023-04-19T04:29:38.398550Z",
     "shell.execute_reply.started": "2023-04-19T04:29:38.391969Z"
    }
   },
   "outputs": [
    {
     "name": "stdout",
     "output_type": "stream",
     "text": [
      "{'name': 'cx', 'qubits': [3, 1]}\n",
      "{'name': 'cx', 'qubits': [3, 1]}\n",
      "{'name': 'cx', 'qubits': [1, 2]}\n",
      "{'name': 'cx', 'qubits': [1, 2]}\n",
      "{'name': 'cx', 'qubits': [3, 1]}\n",
      "{'name': 'cx', 'qubits': [1, 3]}\n",
      "{'name': 'cx', 'qubits': [3, 1]}\n",
      "{'qubits': [1, 2], 'name': 'cx'}\n",
      "{'name': 'cx', 'qubits': [1, 2]}\n",
      "{'name': 'cx', 'qubits': [5, 3]}\n",
      "{'name': 'cx', 'qubits': [5, 3]}\n",
      "{'name': 'cx', 'qubits': [1, 3]}\n",
      "{'name': 'cx', 'qubits': [3, 1]}\n",
      "{'name': 'cx', 'qubits': [1, 3]}\n",
      "{'name': 'cx', 'qubits': [1, 0]}\n",
      "{'name': 'cx', 'qubits': [1, 0]}\n",
      "{'name': 'cx', 'qubits': [3, 5]}\n",
      "{'name': 'cx', 'qubits': [3, 5]}\n",
      "{'qubits': [1, 3], 'name': 'cx'}\n",
      "{'name': 'cx', 'qubits': [3, 1]}\n",
      "{'name': 'cx', 'qubits': [1, 3]}\n",
      "{'name': 'cx', 'qubits': [1, 0]}\n",
      "{'name': 'cx', 'qubits': [5, 3]}\n",
      "{'name': 'cx', 'qubits': [3, 5]}\n",
      "{'qubits': [5, 3], 'name': 'cx'}\n",
      "{'name': 'cx', 'qubits': [3, 1]}\n",
      "{'name': 'cx', 'qubits': [1, 3]}\n",
      "{'name': 'cx', 'qubits': [3, 1]}\n",
      "{'name': 'cx', 'qubits': [2, 1]}\n",
      "{'name': 'cx', 'qubits': [2, 1]}\n",
      "{'name': 'cx', 'qubits': [5, 6]}\n",
      "{'name': 'cx', 'qubits': [5, 6]}\n",
      "{'name': 'cx', 'qubits': [5, 6]}\n",
      "{'name': 'cx', 'qubits': [3, 5]}\n",
      "{'qubits': [3, 1], 'name': 'cx'}\n",
      "{'name': 'cx', 'qubits': [1, 0]}\n",
      "{'name': 'cx', 'qubits': [3, 1]}\n",
      "{'name': 'cx', 'qubits': [3, 5]}\n",
      "{'name': 'cx', 'qubits': [3, 5]}\n",
      "{'name': 'cx', 'qubits': [1, 3]}\n",
      "{'name': 'cx', 'qubits': [1, 0]}\n",
      "{'name': 'cx', 'qubits': [1, 3]}\n"
     ]
    },
    {
     "data": {
      "text/plain": [
       "[None,\n",
       " None,\n",
       " None,\n",
       " None,\n",
       " None,\n",
       " None,\n",
       " None,\n",
       " None,\n",
       " None,\n",
       " None,\n",
       " None,\n",
       " None,\n",
       " None,\n",
       " None,\n",
       " None,\n",
       " None,\n",
       " None,\n",
       " None,\n",
       " None,\n",
       " None,\n",
       " None,\n",
       " None,\n",
       " None,\n",
       " None,\n",
       " None,\n",
       " None,\n",
       " None,\n",
       " None,\n",
       " None,\n",
       " None,\n",
       " None,\n",
       " None,\n",
       " None,\n",
       " None,\n",
       " None,\n",
       " None,\n",
       " None,\n",
       " None,\n",
       " None,\n",
       " None,\n",
       " None,\n",
       " None]"
      ]
     },
     "execution_count": 65,
     "metadata": {},
     "output_type": "execute_result"
    }
   ],
   "source": [
    "[print(instruction) for instruction in jobs[0].circuits()[0][\"experiments\"][0][\"instructions\"] if instruction[\"name\"] == \"cx\"]"
   ]
  },
  {
   "cell_type": "code",
   "execution_count": 91,
   "metadata": {
    "execution": {
     "iopub.execute_input": "2023-04-19T04:57:22.792232Z",
     "iopub.status.busy": "2023-04-19T04:57:22.791448Z",
     "iopub.status.idle": "2023-04-19T04:57:22.843062Z",
     "shell.execute_reply": "2023-04-19T04:57:22.842125Z",
     "shell.execute_reply.started": "2023-04-19T04:57:22.792203Z"
    }
   },
   "outputs": [
    {
     "data": {
      "text/plain": [
       "[{'type': 'QASM',\n",
       "  'config': {'parameter_binds': [],\n",
       "   'use_measure_esp': False,\n",
       "   'memory': False,\n",
       "   'n_qubits': 7,\n",
       "   'rep_delay': 250,\n",
       "   'meas_level': 2,\n",
       "   'init_qubits': True,\n",
       "   'memory_slots': 6,\n",
       "   'shots': 2000,\n",
       "   'parametric_pulses': ['gaussian',\n",
       "    'gaussian_square',\n",
       "    'gaussian_square_drag',\n",
       "    'drag',\n",
       "    'constant']},\n",
       "  'header': {'backend_name': 'ibm_lagos', 'backend_version': '1.3.0'},\n",
       "  'qobj_id': 'a4d6fcc8-54d5-4e70-beb6-253abdca44ea',\n",
       "  'experiments': [{'config': {'n_qubits': 7, 'memory_slots': 6},\n",
       "    'header': {'qreg_sizes': [['q', 7]],\n",
       "     'clbit_labels': [['flattened', 0],\n",
       "      ['flattened', 1],\n",
       "      ['flattened', 2],\n",
       "      ['flattened', 3],\n",
       "      ['flattened', 4],\n",
       "      ['flattened', 5]],\n",
       "     'global_phase': 0,\n",
       "     'qubit_labels': [['q', 0],\n",
       "      ['q', 1],\n",
       "      ['q', 2],\n",
       "      ['q', 3],\n",
       "      ['q', 4],\n",
       "      ['q', 5],\n",
       "      ['q', 6]],\n",
       "     'n_qubits': 7,\n",
       "     'creg_sizes': [['flattened', 6]],\n",
       "     'memory_slots': 6,\n",
       "     'name': 'circuit-586',\n",
       "     'metadata': {}},\n",
       "    'instructions': [{'name': 'delay', 'params': [17280], 'qubits': [0]},\n",
       "     {'name': 'sx', 'qubits': [0]},\n",
       "     {'name': 'rz', 'params': [1.5707963267948966], 'qubits': [0]},\n",
       "     {'name': 'sx', 'qubits': [1]},\n",
       "     {'name': 'rz', 'params': [1.5707963267948966], 'qubits': [1]},\n",
       "     {'name': 'delay', 'params': [2688], 'qubits': [2]},\n",
       "     {'name': 'sx', 'qubits': [2]},\n",
       "     {'name': 'rz', 'params': [1.5707963267948966], 'qubits': [2]},\n",
       "     {'name': 'sx', 'qubits': [3]},\n",
       "     {'name': 'rz', 'params': [3.141592653589793], 'qubits': [3]},\n",
       "     {'name': 'cx', 'qubits': [3, 1]},\n",
       "     {'name': 'rz', 'params': [8.981259787369586], 'qubits': [1]},\n",
       "     {'name': 'cx', 'qubits': [3, 1]},\n",
       "     {'name': 'cx', 'qubits': [1, 2]},\n",
       "     {'name': 'rz', 'params': [8.981259787369586], 'qubits': [2]},\n",
       "     {'name': 'cx', 'qubits': [1, 2]},\n",
       "     {'params': [1040], 'qubits': [2], 'name': 'delay'},\n",
       "     {'name': 'x', 'qubits': [2]},\n",
       "     {'name': 'delay', 'params': [1952], 'qubits': [2]},\n",
       "     {'name': 'x', 'qubits': [2]},\n",
       "     {'qubits': [2], 'name': 'delay', 'params': [880]},\n",
       "     {'name': 'delay', 'params': [736], 'qubits': [3]},\n",
       "     {'name': 'x', 'qubits': [3]},\n",
       "     {'name': 'delay', 'params': [1312], 'qubits': [3]},\n",
       "     {'name': 'x', 'qubits': [3]},\n",
       "     {'qubits': [3], 'name': 'delay', 'params': [576]},\n",
       "     {'name': 'cx', 'qubits': [3, 1]},\n",
       "     {'name': 'cx', 'qubits': [1, 3]},\n",
       "     {'name': 'cx', 'qubits': [3, 1]},\n",
       "     {'qubits': [1, 2], 'name': 'cx'},\n",
       "     {'name': 'delay', 'params': [160], 'qubits': [1]},\n",
       "     {'name': 'rz', 'params': [2.6980744801900003], 'qubits': [2]},\n",
       "     {'name': 'x', 'qubits': [2]},\n",
       "     {'name': 'cx', 'qubits': [1, 2]},\n",
       "     {'name': 'delay', 'params': [3552], 'qubits': [2]},\n",
       "     {'name': 'x', 'qubits': [2]},\n",
       "     {'name': 'delay', 'params': [6944], 'qubits': [2]},\n",
       "     {'name': 'x', 'qubits': [2]},\n",
       "     {'params': [3392], 'qubits': [2], 'name': 'delay'},\n",
       "     {'name': 'delay', 'params': [352], 'qubits': [2]},\n",
       "     {'name': 'x', 'qubits': [2]},\n",
       "     {'name': 'delay', 'params': [576], 'qubits': [2]},\n",
       "     {'name': 'x', 'qubits': [2]},\n",
       "     {'name': 'delay', 'params': [192], 'qubits': [2]},\n",
       "     {'name': 'delay', 'params': [1728], 'qubits': [2]},\n",
       "     {'name': 'x', 'qubits': [2]},\n",
       "     {'name': 'delay', 'params': [3328], 'qubits': [2]},\n",
       "     {'name': 'x', 'qubits': [2]},\n",
       "     {'name': 'delay', 'params': [1568], 'qubits': [2]},\n",
       "     {'name': 'rz', 'params': [1.5707963267948966], 'qubits': [2]},\n",
       "     {'name': 'delay', 'params': [416], 'qubits': [3]},\n",
       "     {'qubits': [4], 'name': 'delay', 'params': [53312]},\n",
       "     {'name': 'delay', 'params': [10240], 'qubits': [5]},\n",
       "     {'name': 'sx', 'qubits': [5]},\n",
       "     {'name': 'rz', 'params': [1.5707963267948966], 'qubits': [5]},\n",
       "     {'name': 'cx', 'qubits': [5, 3]},\n",
       "     {'name': 'rz', 'params': [8.981259787369586], 'qubits': [3]},\n",
       "     {'name': 'cx', 'qubits': [5, 3]},\n",
       "     {'name': 'rz', 'params': [1.5707963267948966], 'qubits': [3]},\n",
       "     {'name': 'cx', 'qubits': [1, 3]},\n",
       "     {'name': 'cx', 'qubits': [3, 1]},\n",
       "     {'name': 'cx', 'qubits': [1, 3]},\n",
       "     {'name': 'cx', 'qubits': [1, 0]},\n",
       "     {'qubits': [0], 'name': 'rz', 'params': [8.981259787369586]},\n",
       "     {'name': 'cx', 'qubits': [1, 0]},\n",
       "     {'name': 'delay', 'params': [1088], 'qubits': [0]},\n",
       "     {'qubits': [0], 'name': 'x'},\n",
       "     {'name': 'delay', 'params': [2016], 'qubits': [0]},\n",
       "     {'name': 'x', 'qubits': [0]},\n",
       "     {'name': 'delay', 'params': [928], 'qubits': [0]},\n",
       "     {'name': 'delay', 'params': [352], 'qubits': [0]},\n",
       "     {'name': 'x', 'qubits': [0]},\n",
       "     {'name': 'delay', 'params': [576], 'qubits': [0]},\n",
       "     {'name': 'x', 'qubits': [0]},\n",
       "     {'params': [192], 'qubits': [0], 'name': 'delay'},\n",
       "     {'qubits': [3], 'name': 'delay', 'params': [576]},\n",
       "     {'name': 'x', 'qubits': [3]},\n",
       "     {'params': [1024], 'qubits': [3], 'name': 'delay'},\n",
       "     {'name': 'x', 'qubits': [3]},\n",
       "     {'qubits': [3], 'name': 'delay', 'params': [416]},\n",
       "     {'name': 'x', 'qubits': [5]},\n",
       "     {'name': 'delay', 'params': [3184], 'qubits': [5]},\n",
       "     {'name': 'x', 'qubits': [5]},\n",
       "     {'name': 'delay', 'params': [3184], 'qubits': [5]},\n",
       "     {'name': 'cx', 'qubits': [3, 5]},\n",
       "     {'name': 'delay', 'params': [160], 'qubits': [3]},\n",
       "     {'name': 'rz', 'params': [2.6980744801900003], 'qubits': [5]},\n",
       "     {'name': 'x', 'qubits': [5]},\n",
       "     {'name': 'cx', 'qubits': [3, 5]},\n",
       "     {'qubits': [1, 3], 'name': 'cx'},\n",
       "     {'name': 'cx', 'qubits': [3, 1]},\n",
       "     {'name': 'cx', 'qubits': [1, 3]},\n",
       "     {'name': 'x', 'qubits': [1]},\n",
       "     {'name': 'delay', 'params': [560], 'qubits': [1]},\n",
       "     {'name': 'x', 'qubits': [1]},\n",
       "     {'params': [560], 'qubits': [1], 'name': 'delay'},\n",
       "     {'name': 'cx', 'qubits': [1, 0]},\n",
       "     {'name': 'delay', 'params': [2000], 'qubits': [0]},\n",
       "     {'name': 'x', 'qubits': [0]},\n",
       "     {'name': 'delay', 'params': [3840], 'qubits': [0]},\n",
       "     {'name': 'x', 'qubits': [0]},\n",
       "     {'qubits': [0], 'name': 'delay', 'params': [1840]},\n",
       "     {'name': 'rz', 'params': [2.6980744801900003], 'qubits': [0]},\n",
       "     {'name': 'x', 'qubits': [0]},\n",
       "     {'name': 'x', 'qubits': [5]},\n",
       "     {'name': 'delay', 'params': [2016], 'qubits': [5]},\n",
       "     {'name': 'x', 'qubits': [5]},\n",
       "     {'name': 'delay', 'params': [2016], 'qubits': [5]},\n",
       "     {'name': 'cx', 'qubits': [5, 3]},\n",
       "     {'name': 'cx', 'qubits': [3, 5]},\n",
       "     {'qubits': [5, 3], 'name': 'cx'},\n",
       "     {'name': 'cx', 'qubits': [3, 1]},\n",
       "     {'name': 'cx', 'qubits': [1, 3]},\n",
       "     {'name': 'cx', 'qubits': [3, 1]},\n",
       "     {'name': 'cx', 'qubits': [2, 1]},\n",
       "     {'qubits': [1], 'name': 'rz', 'params': [2.6980744801900003]},\n",
       "     {'name': 'cx', 'qubits': [2, 1]},\n",
       "     {'name': 'rz', 'params': [1.5707963267948966], 'qubits': [1]},\n",
       "     {'name': 'delay', 'params': [1360], 'qubits': [2]},\n",
       "     {'name': 'x', 'qubits': [2]},\n",
       "     {'qubits': [2], 'name': 'delay', 'params': [2560]},\n",
       "     {'name': 'x', 'qubits': [2]},\n",
       "     {'name': 'delay', 'params': [1200], 'qubits': [2]},\n",
       "     {'name': 'delay', 'params': [864], 'qubits': [2]},\n",
       "     {'name': 'x', 'qubits': [2]},\n",
       "     {'params': [1600], 'qubits': [2], 'name': 'delay'},\n",
       "     {'name': 'x', 'qubits': [2]},\n",
       "     {'name': 'delay', 'params': [704], 'qubits': [2]},\n",
       "     {'params': [1440], 'qubits': [2], 'name': 'delay'},\n",
       "     {'name': 'x', 'qubits': [2]},\n",
       "     {'name': 'delay', 'params': [2720], 'qubits': [2]},\n",
       "     {'name': 'x', 'qubits': [2]},\n",
       "     {'name': 'delay', 'params': [1280], 'qubits': [2]},\n",
       "     {'name': 'sx', 'qubits': [2]},\n",
       "     {'name': 'rz', 'params': [2.441265436959791], 'qubits': [2]},\n",
       "     {'name': 'sx', 'qubits': [2]},\n",
       "     {'qubits': [2], 'name': 'rz', 'params': [1.5707963267948966]},\n",
       "     {'name': 'delay', 'params': [272], 'qubits': [3]},\n",
       "     {'name': 'x', 'qubits': [3]},\n",
       "     {'name': 'delay', 'params': [416], 'qubits': [3]},\n",
       "     {'name': 'x', 'qubits': [3]},\n",
       "     {'name': 'delay', 'params': [112], 'qubits': [3]},\n",
       "     {'name': 'x', 'qubits': [5]},\n",
       "     {'qubits': [5], 'name': 'delay', 'params': [528]},\n",
       "     {'name': 'x', 'qubits': [5]},\n",
       "     {'qubits': [5], 'name': 'delay', 'params': [528]},\n",
       "     {'name': 'sx', 'qubits': [5]},\n",
       "     {'name': 'rz', 'params': [1.5707963267948966], 'qubits': [5]},\n",
       "     {'name': 'delay', 'params': [32864], 'qubits': [6]},\n",
       "     {'name': 'sx', 'qubits': [6]},\n",
       "     {'name': 'rz', 'params': [7.853981633974483], 'qubits': [6]},\n",
       "     {'name': 'cx', 'qubits': [5, 6]},\n",
       "     {'name': 'sx', 'qubits': [5]},\n",
       "     {'name': 'delay', 'params': [160], 'qubits': [6]},\n",
       "     {'name': 'rz', 'params': [1.5707963267948966], 'qubits': [6]},\n",
       "     {'name': 'cx', 'qubits': [5, 6]},\n",
       "     {'qubits': [5], 'name': 'sx'},\n",
       "     {'name': 'rz', 'params': [1.5707963267948966], 'qubits': [5]},\n",
       "     {'params': [160], 'qubits': [6], 'name': 'delay'},\n",
       "     {'params': [1.1272781533951033], 'qubits': [6], 'name': 'rz'},\n",
       "     {'name': 'cx', 'qubits': [5, 6]},\n",
       "     {'name': 'cx', 'qubits': [3, 5]},\n",
       "     {'qubits': [3, 1], 'name': 'cx'},\n",
       "     {'name': 'cx', 'qubits': [1, 0]},\n",
       "     {'params': [336], 'qubits': [0], 'name': 'delay'},\n",
       "     {'name': 'x', 'qubits': [0]},\n",
       "     {'name': 'delay', 'params': [512], 'qubits': [0]},\n",
       "     {'name': 'x', 'qubits': [0]},\n",
       "     {'name': 'delay', 'params': [176], 'qubits': [0]},\n",
       "     {'name': 'delay', 'params': [864], 'qubits': [0]},\n",
       "     {'name': 'x', 'qubits': [0]},\n",
       "     {'name': 'delay', 'params': [1600], 'qubits': [0]},\n",
       "     {'name': 'x', 'qubits': [0]},\n",
       "     {'name': 'delay', 'params': [704], 'qubits': [0]},\n",
       "     {'name': 'delay', 'params': [288], 'qubits': [0]},\n",
       "     {'name': 'x', 'qubits': [0]},\n",
       "     {'name': 'delay', 'params': [448], 'qubits': [0]},\n",
       "     {'name': 'x', 'qubits': [0]},\n",
       "     {'name': 'delay', 'params': [128], 'qubits': [0]},\n",
       "     {'name': 'rz', 'params': [4.268870806984896], 'qubits': [0]},\n",
       "     {'name': 'sx', 'qubits': [0]},\n",
       "     {'name': 'rz', 'params': [2.441265436959791], 'qubits': [0]},\n",
       "     {'name': 'sx', 'qubits': [0]},\n",
       "     {'name': 'rz', 'params': [1.5707963267948966], 'qubits': [0]},\n",
       "     {'name': 'delay', 'params': [688], 'qubits': [3]},\n",
       "     {'name': 'x', 'qubits': [3]},\n",
       "     {'name': 'delay', 'params': [1216], 'qubits': [3]},\n",
       "     {'name': 'x', 'qubits': [3]},\n",
       "     {'name': 'delay', 'params': [528], 'qubits': [3]},\n",
       "     {'name': 'cx', 'qubits': [3, 1]},\n",
       "     {'name': 'x', 'qubits': [1]},\n",
       "     {'name': 'delay', 'params': [1584], 'qubits': [1]},\n",
       "     {'qubits': [1], 'name': 'x'},\n",
       "     {'name': 'delay', 'params': [1584], 'qubits': [1]},\n",
       "     {'name': 'sx', 'qubits': [3]},\n",
       "     {'name': 'x', 'qubits': [5]},\n",
       "     {'name': 'delay', 'params': [2560], 'qubits': [5]},\n",
       "     {'name': 'x', 'qubits': [5]},\n",
       "     {'name': 'delay', 'params': [2560], 'qubits': [5]},\n",
       "     {'name': 'rz', 'params': [5.839667133779793], 'qubits': [5]},\n",
       "     {'name': 'sx', 'qubits': [5]},\n",
       "     {'name': 'rz', 'params': [1.5707963267948966], 'qubits': [5]},\n",
       "     {'name': 'cx', 'qubits': [3, 5]},\n",
       "     {'qubits': [3], 'name': 'delay', 'params': [160]},\n",
       "     {'qubits': [3], 'name': 'sx'},\n",
       "     {'name': 'rz', 'params': [1.5707963267948966], 'qubits': [3]},\n",
       "     {'name': 'sx', 'qubits': [5]},\n",
       "     {'name': 'rz', 'params': [2.271123543424899], 'qubits': [5]},\n",
       "     {'name': 'sx', 'qubits': [5]},\n",
       "     {'name': 'rz', 'params': [-1.5707963267948966], 'qubits': [5]},\n",
       "     {'name': 'cx', 'qubits': [3, 5]},\n",
       "     {'name': 'cx', 'qubits': [1, 3]},\n",
       "     {'name': 'cx', 'qubits': [1, 0]},\n",
       "     {'name': 'delay', 'params': [448], 'qubits': [0]},\n",
       "     {'name': 'x', 'qubits': [0]},\n",
       "     {'name': 'delay', 'params': [768], 'qubits': [0]},\n",
       "     {'name': 'x', 'qubits': [0]},\n",
       "     {'params': [288], 'qubits': [0], 'name': 'delay'},\n",
       "     {'qubits': [3], 'name': 'delay', 'params': [608]},\n",
       "     {'name': 'x', 'qubits': [3]},\n",
       "     {'name': 'delay', 'params': [1056], 'qubits': [3]},\n",
       "     {'name': 'x', 'qubits': [3]},\n",
       "     {'name': 'delay', 'params': [448], 'qubits': [3]},\n",
       "     {'params': [4.268870806984896], 'qubits': [3], 'name': 'rz'},\n",
       "     {'name': 'sx', 'qubits': [3]},\n",
       "     {'name': 'rz', 'params': [2.441265436959791], 'qubits': [3]},\n",
       "     {'name': 'sx', 'qubits': [3]},\n",
       "     {'name': 'rz', 'params': [1.5707963267948966], 'qubits': [3]},\n",
       "     {'name': 'cx', 'qubits': [1, 3]},\n",
       "     {'name': 'sx', 'qubits': [1]},\n",
       "     {'name': 'rz', 'params': [2.441265436959791], 'qubits': [1]},\n",
       "     {'name': 'sx', 'qubits': [1]},\n",
       "     {'name': 'rz', 'params': [1.5707963267948966], 'qubits': [1]},\n",
       "     {'name': 'delay', 'params': [320], 'qubits': [3]},\n",
       "     {'name': 'x', 'qubits': [5]},\n",
       "     {'name': 'delay', 'params': [2880], 'qubits': [5]},\n",
       "     {'qubits': [5], 'name': 'x'},\n",
       "     {'name': 'delay', 'params': [2880], 'qubits': [5]},\n",
       "     {'name': 'delay', 'params': [368], 'qubits': [6]},\n",
       "     {'name': 'x', 'qubits': [6]},\n",
       "     {'name': 'delay', 'params': [608], 'qubits': [6]},\n",
       "     {'name': 'x', 'qubits': [6]},\n",
       "     {'qubits': [6], 'name': 'delay', 'params': [208]},\n",
       "     {'name': 'delay', 'params': [1360], 'qubits': [6]},\n",
       "     {'name': 'x', 'qubits': [6]},\n",
       "     {'name': 'delay', 'params': [2560], 'qubits': [6]},\n",
       "     {'name': 'x', 'qubits': [6]},\n",
       "     {'name': 'delay', 'params': [1200], 'qubits': [6]},\n",
       "     {'name': 'delay', 'params': [864], 'qubits': [6]},\n",
       "     {'name': 'x', 'qubits': [6]},\n",
       "     {'name': 'delay', 'params': [1600], 'qubits': [6]},\n",
       "     {'qubits': [6], 'name': 'x'},\n",
       "     {'qubits': [6], 'name': 'delay', 'params': [704]},\n",
       "     {'params': [1440], 'qubits': [6], 'name': 'delay'},\n",
       "     {'name': 'x', 'qubits': [6]},\n",
       "     {'name': 'delay', 'params': [2720], 'qubits': [6]},\n",
       "     {'name': 'x', 'qubits': [6]},\n",
       "     {'name': 'delay', 'params': [1280], 'qubits': [6]},\n",
       "     {'name': 'sx', 'qubits': [6]},\n",
       "     {'name': 'rz', 'params': [5.582858090549584], 'qubits': [6]},\n",
       "     {'name': 'sx', 'qubits': [6]},\n",
       "     {'name': 'rz', 'params': [1.5707963267948966], 'qubits': [6]},\n",
       "     {'name': 'barrier', 'qubits': [2, 5, 1, 4, 3, 0, 6]},\n",
       "     {'name': 'measure', 'memory': [0], 'qubits': [6]},\n",
       "     {'name': 'measure', 'memory': [1], 'qubits': [5]},\n",
       "     {'name': 'measure', 'memory': [2], 'qubits': [2]},\n",
       "     {'name': 'measure', 'memory': [3], 'qubits': [1]},\n",
       "     {'name': 'measure', 'memory': [4], 'qubits': [0]},\n",
       "     {'name': 'measure', 'memory': [5], 'qubits': [3]}]}],\n",
       "  'schema_version': '1.3.0'}]"
      ]
     },
     "execution_count": 91,
     "metadata": {},
     "output_type": "execute_result"
    }
   ],
   "source": [
    "jobs[0].circuits()"
   ]
  },
  {
   "cell_type": "code",
   "execution_count": 81,
   "metadata": {
    "execution": {
     "iopub.execute_input": "2023-04-19T04:45:35.582834Z",
     "iopub.status.busy": "2023-04-19T04:45:35.582173Z",
     "iopub.status.idle": "2023-04-19T04:45:35.749288Z",
     "shell.execute_reply": "2023-04-19T04:45:35.747831Z",
     "shell.execute_reply.started": "2023-04-19T04:45:35.582806Z"
    }
   },
   "outputs": [
    {
     "ename": "AttributeError",
     "evalue": "Attribute calibrations is not defined.",
     "output_type": "error",
     "traceback": [
      "\u001b[0;31m---------------------------------------------------------------------------\u001b[0m",
      "\u001b[0;31mAttributeError\u001b[0m                            Traceback (most recent call last)",
      "Cell \u001b[0;32mIn[81], line 4\u001b[0m\n\u001b[1;32m      2\u001b[0m \u001b[38;5;28;01mfrom\u001b[39;00m \u001b[38;5;21;01mqiskit\u001b[39;00m \u001b[38;5;28;01mimport\u001b[39;00m execute\n\u001b[1;32m      3\u001b[0m sim \u001b[38;5;241m=\u001b[39m AerSimulator()\n\u001b[0;32m----> 4\u001b[0m job_results_sim \u001b[38;5;241m=\u001b[39m [execute(experiments \u001b[38;5;241m=\u001b[39m job, backend\u001b[38;5;241m=\u001b[39msim)\u001b[38;5;241m.\u001b[39mresult() \u001b[38;5;28;01mfor\u001b[39;00m job \u001b[38;5;129;01min\u001b[39;00m jobs]\n",
      "Cell \u001b[0;32mIn[81], line 4\u001b[0m, in \u001b[0;36m<listcomp>\u001b[0;34m(.0)\u001b[0m\n\u001b[1;32m      2\u001b[0m \u001b[38;5;28;01mfrom\u001b[39;00m \u001b[38;5;21;01mqiskit\u001b[39;00m \u001b[38;5;28;01mimport\u001b[39;00m execute\n\u001b[1;32m      3\u001b[0m sim \u001b[38;5;241m=\u001b[39m AerSimulator()\n\u001b[0;32m----> 4\u001b[0m job_results_sim \u001b[38;5;241m=\u001b[39m [\u001b[43mexecute\u001b[49m\u001b[43m(\u001b[49m\u001b[43mexperiments\u001b[49m\u001b[43m \u001b[49m\u001b[38;5;241;43m=\u001b[39;49m\u001b[43m \u001b[49m\u001b[43mjob\u001b[49m\u001b[43m,\u001b[49m\u001b[43m \u001b[49m\u001b[43mbackend\u001b[49m\u001b[38;5;241;43m=\u001b[39;49m\u001b[43msim\u001b[49m\u001b[43m)\u001b[49m\u001b[38;5;241m.\u001b[39mresult() \u001b[38;5;28;01mfor\u001b[39;00m job \u001b[38;5;129;01min\u001b[39;00m jobs]\n",
      "File \u001b[0;32m~/opt/anaconda3/envs/oq_clone_apr23/lib/python3.10/site-packages/qiskit/execute_function.py:302\u001b[0m, in \u001b[0;36mexecute\u001b[0;34m(experiments, backend, basis_gates, coupling_map, backend_properties, initial_layout, seed_transpiler, optimization_level, pass_manager, qobj_id, qobj_header, shots, memory, max_credits, seed_simulator, default_qubit_los, default_meas_los, qubit_lo_range, meas_lo_range, schedule_los, meas_level, meas_return, memory_slots, memory_slot_size, rep_time, rep_delay, parameter_binds, schedule_circuit, inst_map, meas_map, scheduling_method, init_qubits, **run_config)\u001b[0m\n\u001b[1;32m    299\u001b[0m     experiments \u001b[38;5;241m=\u001b[39m pass_manager\u001b[38;5;241m.\u001b[39mrun(experiments)\n\u001b[1;32m    300\u001b[0m \u001b[38;5;28;01melse\u001b[39;00m:\n\u001b[1;32m    301\u001b[0m     \u001b[38;5;66;03m# transpiling the circuits using given transpile options\u001b[39;00m\n\u001b[0;32m--> 302\u001b[0m     experiments \u001b[38;5;241m=\u001b[39m \u001b[43mtranspile\u001b[49m\u001b[43m(\u001b[49m\n\u001b[1;32m    303\u001b[0m \u001b[43m        \u001b[49m\u001b[43mexperiments\u001b[49m\u001b[43m,\u001b[49m\n\u001b[1;32m    304\u001b[0m \u001b[43m        \u001b[49m\u001b[43mbasis_gates\u001b[49m\u001b[38;5;241;43m=\u001b[39;49m\u001b[43mbasis_gates\u001b[49m\u001b[43m,\u001b[49m\n\u001b[1;32m    305\u001b[0m \u001b[43m        \u001b[49m\u001b[43mcoupling_map\u001b[49m\u001b[38;5;241;43m=\u001b[39;49m\u001b[43mcoupling_map\u001b[49m\u001b[43m,\u001b[49m\n\u001b[1;32m    306\u001b[0m \u001b[43m        \u001b[49m\u001b[43mbackend_properties\u001b[49m\u001b[38;5;241;43m=\u001b[39;49m\u001b[43mbackend_properties\u001b[49m\u001b[43m,\u001b[49m\n\u001b[1;32m    307\u001b[0m \u001b[43m        \u001b[49m\u001b[43minitial_layout\u001b[49m\u001b[38;5;241;43m=\u001b[39;49m\u001b[43minitial_layout\u001b[49m\u001b[43m,\u001b[49m\n\u001b[1;32m    308\u001b[0m \u001b[43m        \u001b[49m\u001b[43mseed_transpiler\u001b[49m\u001b[38;5;241;43m=\u001b[39;49m\u001b[43mseed_transpiler\u001b[49m\u001b[43m,\u001b[49m\n\u001b[1;32m    309\u001b[0m \u001b[43m        \u001b[49m\u001b[43moptimization_level\u001b[49m\u001b[38;5;241;43m=\u001b[39;49m\u001b[43moptimization_level\u001b[49m\u001b[43m,\u001b[49m\n\u001b[1;32m    310\u001b[0m \u001b[43m        \u001b[49m\u001b[43mbackend\u001b[49m\u001b[38;5;241;43m=\u001b[39;49m\u001b[43mbackend\u001b[49m\u001b[43m,\u001b[49m\n\u001b[1;32m    311\u001b[0m \u001b[43m    \u001b[49m\u001b[43m)\u001b[49m\n\u001b[1;32m    313\u001b[0m \u001b[38;5;28;01mif\u001b[39;00m schedule_circuit:\n\u001b[1;32m    314\u001b[0m     experiments \u001b[38;5;241m=\u001b[39m schedule(\n\u001b[1;32m    315\u001b[0m         circuits\u001b[38;5;241m=\u001b[39mexperiments,\n\u001b[1;32m    316\u001b[0m         backend\u001b[38;5;241m=\u001b[39mbackend,\n\u001b[0;32m   (...)\u001b[0m\n\u001b[1;32m    319\u001b[0m         method\u001b[38;5;241m=\u001b[39mscheduling_method,\n\u001b[1;32m    320\u001b[0m     )\n",
      "File \u001b[0;32m~/opt/anaconda3/envs/oq_clone_apr23/lib/python3.10/site-packages/qiskit/compiler/transpiler.py:326\u001b[0m, in \u001b[0;36mtranspile\u001b[0;34m(circuits, backend, basis_gates, inst_map, coupling_map, backend_properties, initial_layout, layout_method, routing_method, translation_method, scheduling_method, instruction_durations, dt, approximation_degree, timing_constraints, seed_transpiler, optimization_level, callback, output_name, unitary_synthesis_method, unitary_synthesis_plugin_config, target, hls_config, init_method, optimization_method, ignore_backend_supplied_default_methods)\u001b[0m\n\u001b[1;32m    314\u001b[0m \u001b[38;5;28;01mif\u001b[39;00m (\n\u001b[1;32m    315\u001b[0m     scheduling_method \u001b[38;5;129;01mis\u001b[39;00m \u001b[38;5;129;01mnot\u001b[39;00m \u001b[38;5;28;01mNone\u001b[39;00m\n\u001b[1;32m    316\u001b[0m     \u001b[38;5;129;01mand\u001b[39;00m backend \u001b[38;5;129;01mis\u001b[39;00m \u001b[38;5;28;01mNone\u001b[39;00m\n\u001b[1;32m    317\u001b[0m     \u001b[38;5;129;01mand\u001b[39;00m target \u001b[38;5;129;01mis\u001b[39;00m \u001b[38;5;28;01mNone\u001b[39;00m\n\u001b[1;32m    318\u001b[0m     \u001b[38;5;129;01mand\u001b[39;00m \u001b[38;5;129;01mnot\u001b[39;00m instruction_durations\n\u001b[1;32m    319\u001b[0m ):\n\u001b[1;32m    320\u001b[0m     warnings\u001b[38;5;241m.\u001b[39mwarn(\n\u001b[1;32m    321\u001b[0m         \u001b[38;5;124m\"\u001b[39m\u001b[38;5;124mWhen scheduling circuits without backend,\u001b[39m\u001b[38;5;124m\"\u001b[39m\n\u001b[1;32m    322\u001b[0m         \u001b[38;5;124m\"\u001b[39m\u001b[38;5;124m \u001b[39m\u001b[38;5;124m'\u001b[39m\u001b[38;5;124minstruction_durations\u001b[39m\u001b[38;5;124m'\u001b[39m\u001b[38;5;124m should be usually provided.\u001b[39m\u001b[38;5;124m\"\u001b[39m,\n\u001b[1;32m    323\u001b[0m         \u001b[38;5;167;01mUserWarning\u001b[39;00m,\n\u001b[1;32m    324\u001b[0m     )\n\u001b[0;32m--> 326\u001b[0m unique_transpile_args, shared_args \u001b[38;5;241m=\u001b[39m \u001b[43m_parse_transpile_args\u001b[49m\u001b[43m(\u001b[49m\n\u001b[1;32m    327\u001b[0m \u001b[43m    \u001b[49m\u001b[43mcircuits\u001b[49m\u001b[43m,\u001b[49m\n\u001b[1;32m    328\u001b[0m \u001b[43m    \u001b[49m\u001b[43mbackend\u001b[49m\u001b[43m,\u001b[49m\n\u001b[1;32m    329\u001b[0m \u001b[43m    \u001b[49m\u001b[43mbasis_gates\u001b[49m\u001b[43m,\u001b[49m\n\u001b[1;32m    330\u001b[0m \u001b[43m    \u001b[49m\u001b[43minst_map\u001b[49m\u001b[43m,\u001b[49m\n\u001b[1;32m    331\u001b[0m \u001b[43m    \u001b[49m\u001b[43mcoupling_map\u001b[49m\u001b[43m,\u001b[49m\n\u001b[1;32m    332\u001b[0m \u001b[43m    \u001b[49m\u001b[43mbackend_properties\u001b[49m\u001b[43m,\u001b[49m\n\u001b[1;32m    333\u001b[0m \u001b[43m    \u001b[49m\u001b[43minitial_layout\u001b[49m\u001b[43m,\u001b[49m\n\u001b[1;32m    334\u001b[0m \u001b[43m    \u001b[49m\u001b[43mlayout_method\u001b[49m\u001b[43m,\u001b[49m\n\u001b[1;32m    335\u001b[0m \u001b[43m    \u001b[49m\u001b[43mrouting_method\u001b[49m\u001b[43m,\u001b[49m\n\u001b[1;32m    336\u001b[0m \u001b[43m    \u001b[49m\u001b[43mtranslation_method\u001b[49m\u001b[43m,\u001b[49m\n\u001b[1;32m    337\u001b[0m \u001b[43m    \u001b[49m\u001b[43mscheduling_method\u001b[49m\u001b[43m,\u001b[49m\n\u001b[1;32m    338\u001b[0m \u001b[43m    \u001b[49m\u001b[43minstruction_durations\u001b[49m\u001b[43m,\u001b[49m\n\u001b[1;32m    339\u001b[0m \u001b[43m    \u001b[49m\u001b[43mdt\u001b[49m\u001b[43m,\u001b[49m\n\u001b[1;32m    340\u001b[0m \u001b[43m    \u001b[49m\u001b[43mapproximation_degree\u001b[49m\u001b[43m,\u001b[49m\n\u001b[1;32m    341\u001b[0m \u001b[43m    \u001b[49m\u001b[43mseed_transpiler\u001b[49m\u001b[43m,\u001b[49m\n\u001b[1;32m    342\u001b[0m \u001b[43m    \u001b[49m\u001b[43moptimization_level\u001b[49m\u001b[43m,\u001b[49m\n\u001b[1;32m    343\u001b[0m \u001b[43m    \u001b[49m\u001b[43mcallback\u001b[49m\u001b[43m,\u001b[49m\n\u001b[1;32m    344\u001b[0m \u001b[43m    \u001b[49m\u001b[43moutput_name\u001b[49m\u001b[43m,\u001b[49m\n\u001b[1;32m    345\u001b[0m \u001b[43m    \u001b[49m\u001b[43mtiming_constraints\u001b[49m\u001b[43m,\u001b[49m\n\u001b[1;32m    346\u001b[0m \u001b[43m    \u001b[49m\u001b[43munitary_synthesis_method\u001b[49m\u001b[43m,\u001b[49m\n\u001b[1;32m    347\u001b[0m \u001b[43m    \u001b[49m\u001b[43munitary_synthesis_plugin_config\u001b[49m\u001b[43m,\u001b[49m\n\u001b[1;32m    348\u001b[0m \u001b[43m    \u001b[49m\u001b[43mtarget\u001b[49m\u001b[43m,\u001b[49m\n\u001b[1;32m    349\u001b[0m \u001b[43m    \u001b[49m\u001b[43mhls_config\u001b[49m\u001b[43m,\u001b[49m\n\u001b[1;32m    350\u001b[0m \u001b[43m    \u001b[49m\u001b[43minit_method\u001b[49m\u001b[43m,\u001b[49m\n\u001b[1;32m    351\u001b[0m \u001b[43m    \u001b[49m\u001b[43moptimization_method\u001b[49m\u001b[43m,\u001b[49m\n\u001b[1;32m    352\u001b[0m \u001b[43m    \u001b[49m\u001b[43mignore_backend_supplied_default_methods\u001b[49m\u001b[43m,\u001b[49m\n\u001b[1;32m    353\u001b[0m \u001b[43m\u001b[49m\u001b[43m)\u001b[49m\n\u001b[1;32m    354\u001b[0m \u001b[38;5;66;03m# Get transpile_args to configure the circuit transpilation job(s)\u001b[39;00m\n\u001b[1;32m    355\u001b[0m \u001b[38;5;28;01mif\u001b[39;00m coupling_map \u001b[38;5;129;01min\u001b[39;00m unique_transpile_args:\n",
      "File \u001b[0;32m~/opt/anaconda3/envs/oq_clone_apr23/lib/python3.10/site-packages/qiskit/compiler/transpiler.py:664\u001b[0m, in \u001b[0;36m_parse_transpile_args\u001b[0;34m(circuits, backend, basis_gates, inst_map, coupling_map, backend_properties, initial_layout, layout_method, routing_method, translation_method, scheduling_method, instruction_durations, dt, approximation_degree, seed_transpiler, optimization_level, callback, output_name, timing_constraints, unitary_synthesis_method, unitary_synthesis_plugin_config, target, hls_config, init_method, optimization_method, ignore_backend_supplied_default_methods)\u001b[0m\n\u001b[1;32m    662\u001b[0m output_name \u001b[38;5;241m=\u001b[39m _parse_output_name(output_name, circuits)\n\u001b[1;32m    663\u001b[0m callback \u001b[38;5;241m=\u001b[39m _parse_callback(callback, num_circuits)\n\u001b[0;32m--> 664\u001b[0m durations \u001b[38;5;241m=\u001b[39m \u001b[43m_parse_instruction_durations\u001b[49m\u001b[43m(\u001b[49m\u001b[43mbackend\u001b[49m\u001b[43m,\u001b[49m\u001b[43m \u001b[49m\u001b[43minstruction_durations\u001b[49m\u001b[43m,\u001b[49m\u001b[43m \u001b[49m\u001b[43mdt\u001b[49m\u001b[43m,\u001b[49m\u001b[43m \u001b[49m\u001b[43mcircuits\u001b[49m\u001b[43m)\u001b[49m\n\u001b[1;32m    665\u001b[0m timing_constraints \u001b[38;5;241m=\u001b[39m _parse_timing_constraints(backend, timing_constraints, num_circuits)\n\u001b[1;32m    666\u001b[0m \u001b[38;5;28;01mif\u001b[39;00m scheduling_method \u001b[38;5;129;01mand\u001b[39;00m \u001b[38;5;28many\u001b[39m(d \u001b[38;5;129;01mis\u001b[39;00m \u001b[38;5;28;01mNone\u001b[39;00m \u001b[38;5;28;01mfor\u001b[39;00m d \u001b[38;5;129;01min\u001b[39;00m durations):\n",
      "File \u001b[0;32m~/opt/anaconda3/envs/oq_clone_apr23/lib/python3.10/site-packages/qiskit/compiler/transpiler.py:977\u001b[0m, in \u001b[0;36m_parse_instruction_durations\u001b[0;34m(backend, inst_durations, dt, circuits)\u001b[0m\n\u001b[1;32m    974\u001b[0m \u001b[38;5;28;01mif\u001b[39;00m \u001b[38;5;129;01mnot\u001b[39;00m inst_durations:\n\u001b[1;32m    975\u001b[0m     circ_durations\u001b[38;5;241m.\u001b[39mupdate(backend_durations, dt \u001b[38;5;129;01mor\u001b[39;00m backend_durations\u001b[38;5;241m.\u001b[39mdt)\n\u001b[0;32m--> 977\u001b[0m \u001b[38;5;28;01mif\u001b[39;00m \u001b[43mcirc\u001b[49m\u001b[38;5;241;43m.\u001b[39;49m\u001b[43mcalibrations\u001b[49m:\n\u001b[1;32m    978\u001b[0m     cal_durations \u001b[38;5;241m=\u001b[39m []\n\u001b[1;32m    979\u001b[0m     \u001b[38;5;28;01mfor\u001b[39;00m gate, gate_cals \u001b[38;5;129;01min\u001b[39;00m circ\u001b[38;5;241m.\u001b[39mcalibrations\u001b[38;5;241m.\u001b[39mitems():\n",
      "File \u001b[0;32m~/opt/anaconda3/envs/oq_clone_apr23/lib/python3.10/site-packages/qiskit_ibm_provider/job/ibm_circuit_job.py:845\u001b[0m, in \u001b[0;36mIBMCircuitJob.__getattr__\u001b[0;34m(self, name)\u001b[0m\n\u001b[1;32m    843\u001b[0m     \u001b[38;5;28;01mreturn\u001b[39;00m \u001b[38;5;28mself\u001b[39m\u001b[38;5;241m.\u001b[39m_data[name]\n\u001b[1;32m    844\u001b[0m \u001b[38;5;28;01mexcept\u001b[39;00m \u001b[38;5;167;01mKeyError\u001b[39;00m:\n\u001b[0;32m--> 845\u001b[0m     \u001b[38;5;28;01mraise\u001b[39;00m \u001b[38;5;167;01mAttributeError\u001b[39;00m(\u001b[38;5;124m\"\u001b[39m\u001b[38;5;124mAttribute \u001b[39m\u001b[38;5;132;01m{}\u001b[39;00m\u001b[38;5;124m is not defined.\u001b[39m\u001b[38;5;124m\"\u001b[39m\u001b[38;5;241m.\u001b[39mformat(name)) \u001b[38;5;28;01mfrom\u001b[39;00m \u001b[38;5;28mNone\u001b[39m\n",
      "\u001b[0;31mAttributeError\u001b[0m: Attribute calibrations is not defined."
     ]
    }
   ],
   "source": [
    "from qiskit.providers.aer import AerSimulator\n",
    "from qiskit import execute\n",
    "sim = AerSimulator()\n",
    "job_results_sim = [execute(experiments = job.circuits()[0][\"experiments\"][0][\"instructions\"], backend=sim).result() for job in jobs]"
   ]
  },
  {
   "cell_type": "code",
   "execution_count": 76,
   "metadata": {
    "execution": {
     "iopub.execute_input": "2023-04-19T04:44:13.723366Z",
     "iopub.status.busy": "2023-04-19T04:44:13.722612Z",
     "iopub.status.idle": "2023-04-19T04:44:13.760963Z",
     "shell.execute_reply": "2023-04-19T04:44:13.759596Z",
     "shell.execute_reply.started": "2023-04-19T04:44:13.723331Z"
    }
   },
   "outputs": [
    {
     "data": {
      "text/plain": [
       "[{'name': 'delay', 'params': [17280], 'qubits': [0]},\n",
       " {'name': 'sx', 'qubits': [0]},\n",
       " {'name': 'rz', 'params': [1.5707963267948966], 'qubits': [0]},\n",
       " {'name': 'sx', 'qubits': [1]},\n",
       " {'name': 'rz', 'params': [1.5707963267948966], 'qubits': [1]},\n",
       " {'name': 'delay', 'params': [2688], 'qubits': [2]},\n",
       " {'name': 'sx', 'qubits': [2]},\n",
       " {'name': 'rz', 'params': [1.5707963267948966], 'qubits': [2]},\n",
       " {'name': 'sx', 'qubits': [3]},\n",
       " {'name': 'rz', 'params': [3.141592653589793], 'qubits': [3]},\n",
       " {'name': 'cx', 'qubits': [3, 1]},\n",
       " {'name': 'rz', 'params': [8.981259787369586], 'qubits': [1]},\n",
       " {'name': 'cx', 'qubits': [3, 1]},\n",
       " {'name': 'cx', 'qubits': [1, 2]},\n",
       " {'name': 'rz', 'params': [8.981259787369586], 'qubits': [2]},\n",
       " {'name': 'cx', 'qubits': [1, 2]},\n",
       " {'params': [1040], 'qubits': [2], 'name': 'delay'},\n",
       " {'name': 'x', 'qubits': [2]},\n",
       " {'name': 'delay', 'params': [1952], 'qubits': [2]},\n",
       " {'name': 'x', 'qubits': [2]},\n",
       " {'qubits': [2], 'name': 'delay', 'params': [880]},\n",
       " {'name': 'delay', 'params': [736], 'qubits': [3]},\n",
       " {'name': 'x', 'qubits': [3]},\n",
       " {'name': 'delay', 'params': [1312], 'qubits': [3]},\n",
       " {'name': 'x', 'qubits': [3]},\n",
       " {'qubits': [3], 'name': 'delay', 'params': [576]},\n",
       " {'name': 'cx', 'qubits': [3, 1]},\n",
       " {'name': 'cx', 'qubits': [1, 3]},\n",
       " {'name': 'cx', 'qubits': [3, 1]},\n",
       " {'qubits': [1, 2], 'name': 'cx'},\n",
       " {'name': 'delay', 'params': [160], 'qubits': [1]},\n",
       " {'name': 'rz', 'params': [2.6980744801900003], 'qubits': [2]},\n",
       " {'name': 'x', 'qubits': [2]},\n",
       " {'name': 'cx', 'qubits': [1, 2]},\n",
       " {'name': 'delay', 'params': [3552], 'qubits': [2]},\n",
       " {'name': 'x', 'qubits': [2]},\n",
       " {'name': 'delay', 'params': [6944], 'qubits': [2]},\n",
       " {'name': 'x', 'qubits': [2]},\n",
       " {'params': [3392], 'qubits': [2], 'name': 'delay'},\n",
       " {'name': 'delay', 'params': [352], 'qubits': [2]},\n",
       " {'name': 'x', 'qubits': [2]},\n",
       " {'name': 'delay', 'params': [576], 'qubits': [2]},\n",
       " {'name': 'x', 'qubits': [2]},\n",
       " {'name': 'delay', 'params': [192], 'qubits': [2]},\n",
       " {'name': 'delay', 'params': [1728], 'qubits': [2]},\n",
       " {'name': 'x', 'qubits': [2]},\n",
       " {'name': 'delay', 'params': [3328], 'qubits': [2]},\n",
       " {'name': 'x', 'qubits': [2]},\n",
       " {'name': 'delay', 'params': [1568], 'qubits': [2]},\n",
       " {'name': 'rz', 'params': [1.5707963267948966], 'qubits': [2]},\n",
       " {'name': 'delay', 'params': [416], 'qubits': [3]},\n",
       " {'qubits': [4], 'name': 'delay', 'params': [53312]},\n",
       " {'name': 'delay', 'params': [10240], 'qubits': [5]},\n",
       " {'name': 'sx', 'qubits': [5]},\n",
       " {'name': 'rz', 'params': [1.5707963267948966], 'qubits': [5]},\n",
       " {'name': 'cx', 'qubits': [5, 3]},\n",
       " {'name': 'rz', 'params': [8.981259787369586], 'qubits': [3]},\n",
       " {'name': 'cx', 'qubits': [5, 3]},\n",
       " {'name': 'rz', 'params': [1.5707963267948966], 'qubits': [3]},\n",
       " {'name': 'cx', 'qubits': [1, 3]},\n",
       " {'name': 'cx', 'qubits': [3, 1]},\n",
       " {'name': 'cx', 'qubits': [1, 3]},\n",
       " {'name': 'cx', 'qubits': [1, 0]},\n",
       " {'qubits': [0], 'name': 'rz', 'params': [8.981259787369586]},\n",
       " {'name': 'cx', 'qubits': [1, 0]},\n",
       " {'name': 'delay', 'params': [1088], 'qubits': [0]},\n",
       " {'qubits': [0], 'name': 'x'},\n",
       " {'name': 'delay', 'params': [2016], 'qubits': [0]},\n",
       " {'name': 'x', 'qubits': [0]},\n",
       " {'name': 'delay', 'params': [928], 'qubits': [0]},\n",
       " {'name': 'delay', 'params': [352], 'qubits': [0]},\n",
       " {'name': 'x', 'qubits': [0]},\n",
       " {'name': 'delay', 'params': [576], 'qubits': [0]},\n",
       " {'name': 'x', 'qubits': [0]},\n",
       " {'params': [192], 'qubits': [0], 'name': 'delay'},\n",
       " {'qubits': [3], 'name': 'delay', 'params': [576]},\n",
       " {'name': 'x', 'qubits': [3]},\n",
       " {'params': [1024], 'qubits': [3], 'name': 'delay'},\n",
       " {'name': 'x', 'qubits': [3]},\n",
       " {'qubits': [3], 'name': 'delay', 'params': [416]},\n",
       " {'name': 'x', 'qubits': [5]},\n",
       " {'name': 'delay', 'params': [3184], 'qubits': [5]},\n",
       " {'name': 'x', 'qubits': [5]},\n",
       " {'name': 'delay', 'params': [3184], 'qubits': [5]},\n",
       " {'name': 'cx', 'qubits': [3, 5]},\n",
       " {'name': 'delay', 'params': [160], 'qubits': [3]},\n",
       " {'name': 'rz', 'params': [2.6980744801900003], 'qubits': [5]},\n",
       " {'name': 'x', 'qubits': [5]},\n",
       " {'name': 'cx', 'qubits': [3, 5]},\n",
       " {'qubits': [1, 3], 'name': 'cx'},\n",
       " {'name': 'cx', 'qubits': [3, 1]},\n",
       " {'name': 'cx', 'qubits': [1, 3]},\n",
       " {'name': 'x', 'qubits': [1]},\n",
       " {'name': 'delay', 'params': [560], 'qubits': [1]},\n",
       " {'name': 'x', 'qubits': [1]},\n",
       " {'params': [560], 'qubits': [1], 'name': 'delay'},\n",
       " {'name': 'cx', 'qubits': [1, 0]},\n",
       " {'name': 'delay', 'params': [2000], 'qubits': [0]},\n",
       " {'name': 'x', 'qubits': [0]},\n",
       " {'name': 'delay', 'params': [3840], 'qubits': [0]},\n",
       " {'name': 'x', 'qubits': [0]},\n",
       " {'qubits': [0], 'name': 'delay', 'params': [1840]},\n",
       " {'name': 'rz', 'params': [2.6980744801900003], 'qubits': [0]},\n",
       " {'name': 'x', 'qubits': [0]},\n",
       " {'name': 'x', 'qubits': [5]},\n",
       " {'name': 'delay', 'params': [2016], 'qubits': [5]},\n",
       " {'name': 'x', 'qubits': [5]},\n",
       " {'name': 'delay', 'params': [2016], 'qubits': [5]},\n",
       " {'name': 'cx', 'qubits': [5, 3]},\n",
       " {'name': 'cx', 'qubits': [3, 5]},\n",
       " {'qubits': [5, 3], 'name': 'cx'},\n",
       " {'name': 'cx', 'qubits': [3, 1]},\n",
       " {'name': 'cx', 'qubits': [1, 3]},\n",
       " {'name': 'cx', 'qubits': [3, 1]},\n",
       " {'name': 'cx', 'qubits': [2, 1]},\n",
       " {'qubits': [1], 'name': 'rz', 'params': [2.6980744801900003]},\n",
       " {'name': 'cx', 'qubits': [2, 1]},\n",
       " {'name': 'rz', 'params': [1.5707963267948966], 'qubits': [1]},\n",
       " {'name': 'delay', 'params': [1360], 'qubits': [2]},\n",
       " {'name': 'x', 'qubits': [2]},\n",
       " {'qubits': [2], 'name': 'delay', 'params': [2560]},\n",
       " {'name': 'x', 'qubits': [2]},\n",
       " {'name': 'delay', 'params': [1200], 'qubits': [2]},\n",
       " {'name': 'delay', 'params': [864], 'qubits': [2]},\n",
       " {'name': 'x', 'qubits': [2]},\n",
       " {'params': [1600], 'qubits': [2], 'name': 'delay'},\n",
       " {'name': 'x', 'qubits': [2]},\n",
       " {'name': 'delay', 'params': [704], 'qubits': [2]},\n",
       " {'params': [1440], 'qubits': [2], 'name': 'delay'},\n",
       " {'name': 'x', 'qubits': [2]},\n",
       " {'name': 'delay', 'params': [2720], 'qubits': [2]},\n",
       " {'name': 'x', 'qubits': [2]},\n",
       " {'name': 'delay', 'params': [1280], 'qubits': [2]},\n",
       " {'name': 'sx', 'qubits': [2]},\n",
       " {'name': 'rz', 'params': [2.441265436959791], 'qubits': [2]},\n",
       " {'name': 'sx', 'qubits': [2]},\n",
       " {'qubits': [2], 'name': 'rz', 'params': [1.5707963267948966]},\n",
       " {'name': 'delay', 'params': [272], 'qubits': [3]},\n",
       " {'name': 'x', 'qubits': [3]},\n",
       " {'name': 'delay', 'params': [416], 'qubits': [3]},\n",
       " {'name': 'x', 'qubits': [3]},\n",
       " {'name': 'delay', 'params': [112], 'qubits': [3]},\n",
       " {'name': 'x', 'qubits': [5]},\n",
       " {'qubits': [5], 'name': 'delay', 'params': [528]},\n",
       " {'name': 'x', 'qubits': [5]},\n",
       " {'qubits': [5], 'name': 'delay', 'params': [528]},\n",
       " {'name': 'sx', 'qubits': [5]},\n",
       " {'name': 'rz', 'params': [1.5707963267948966], 'qubits': [5]},\n",
       " {'name': 'delay', 'params': [32864], 'qubits': [6]},\n",
       " {'name': 'sx', 'qubits': [6]},\n",
       " {'name': 'rz', 'params': [7.853981633974483], 'qubits': [6]},\n",
       " {'name': 'cx', 'qubits': [5, 6]},\n",
       " {'name': 'sx', 'qubits': [5]},\n",
       " {'name': 'delay', 'params': [160], 'qubits': [6]},\n",
       " {'name': 'rz', 'params': [1.5707963267948966], 'qubits': [6]},\n",
       " {'name': 'cx', 'qubits': [5, 6]},\n",
       " {'qubits': [5], 'name': 'sx'},\n",
       " {'name': 'rz', 'params': [1.5707963267948966], 'qubits': [5]},\n",
       " {'params': [160], 'qubits': [6], 'name': 'delay'},\n",
       " {'params': [1.1272781533951033], 'qubits': [6], 'name': 'rz'},\n",
       " {'name': 'cx', 'qubits': [5, 6]},\n",
       " {'name': 'cx', 'qubits': [3, 5]},\n",
       " {'qubits': [3, 1], 'name': 'cx'},\n",
       " {'name': 'cx', 'qubits': [1, 0]},\n",
       " {'params': [336], 'qubits': [0], 'name': 'delay'},\n",
       " {'name': 'x', 'qubits': [0]},\n",
       " {'name': 'delay', 'params': [512], 'qubits': [0]},\n",
       " {'name': 'x', 'qubits': [0]},\n",
       " {'name': 'delay', 'params': [176], 'qubits': [0]},\n",
       " {'name': 'delay', 'params': [864], 'qubits': [0]},\n",
       " {'name': 'x', 'qubits': [0]},\n",
       " {'name': 'delay', 'params': [1600], 'qubits': [0]},\n",
       " {'name': 'x', 'qubits': [0]},\n",
       " {'name': 'delay', 'params': [704], 'qubits': [0]},\n",
       " {'name': 'delay', 'params': [288], 'qubits': [0]},\n",
       " {'name': 'x', 'qubits': [0]},\n",
       " {'name': 'delay', 'params': [448], 'qubits': [0]},\n",
       " {'name': 'x', 'qubits': [0]},\n",
       " {'name': 'delay', 'params': [128], 'qubits': [0]},\n",
       " {'name': 'rz', 'params': [4.268870806984896], 'qubits': [0]},\n",
       " {'name': 'sx', 'qubits': [0]},\n",
       " {'name': 'rz', 'params': [2.441265436959791], 'qubits': [0]},\n",
       " {'name': 'sx', 'qubits': [0]},\n",
       " {'name': 'rz', 'params': [1.5707963267948966], 'qubits': [0]},\n",
       " {'name': 'delay', 'params': [688], 'qubits': [3]},\n",
       " {'name': 'x', 'qubits': [3]},\n",
       " {'name': 'delay', 'params': [1216], 'qubits': [3]},\n",
       " {'name': 'x', 'qubits': [3]},\n",
       " {'name': 'delay', 'params': [528], 'qubits': [3]},\n",
       " {'name': 'cx', 'qubits': [3, 1]},\n",
       " {'name': 'x', 'qubits': [1]},\n",
       " {'name': 'delay', 'params': [1584], 'qubits': [1]},\n",
       " {'qubits': [1], 'name': 'x'},\n",
       " {'name': 'delay', 'params': [1584], 'qubits': [1]},\n",
       " {'name': 'sx', 'qubits': [3]},\n",
       " {'name': 'x', 'qubits': [5]},\n",
       " {'name': 'delay', 'params': [2560], 'qubits': [5]},\n",
       " {'name': 'x', 'qubits': [5]},\n",
       " {'name': 'delay', 'params': [2560], 'qubits': [5]},\n",
       " {'name': 'rz', 'params': [5.839667133779793], 'qubits': [5]},\n",
       " {'name': 'sx', 'qubits': [5]},\n",
       " {'name': 'rz', 'params': [1.5707963267948966], 'qubits': [5]},\n",
       " {'name': 'cx', 'qubits': [3, 5]},\n",
       " {'qubits': [3], 'name': 'delay', 'params': [160]},\n",
       " {'qubits': [3], 'name': 'sx'},\n",
       " {'name': 'rz', 'params': [1.5707963267948966], 'qubits': [3]},\n",
       " {'name': 'sx', 'qubits': [5]},\n",
       " {'name': 'rz', 'params': [2.271123543424899], 'qubits': [5]},\n",
       " {'name': 'sx', 'qubits': [5]},\n",
       " {'name': 'rz', 'params': [-1.5707963267948966], 'qubits': [5]},\n",
       " {'name': 'cx', 'qubits': [3, 5]},\n",
       " {'name': 'cx', 'qubits': [1, 3]},\n",
       " {'name': 'cx', 'qubits': [1, 0]},\n",
       " {'name': 'delay', 'params': [448], 'qubits': [0]},\n",
       " {'name': 'x', 'qubits': [0]},\n",
       " {'name': 'delay', 'params': [768], 'qubits': [0]},\n",
       " {'name': 'x', 'qubits': [0]},\n",
       " {'params': [288], 'qubits': [0], 'name': 'delay'},\n",
       " {'qubits': [3], 'name': 'delay', 'params': [608]},\n",
       " {'name': 'x', 'qubits': [3]},\n",
       " {'name': 'delay', 'params': [1056], 'qubits': [3]},\n",
       " {'name': 'x', 'qubits': [3]},\n",
       " {'name': 'delay', 'params': [448], 'qubits': [3]},\n",
       " {'params': [4.268870806984896], 'qubits': [3], 'name': 'rz'},\n",
       " {'name': 'sx', 'qubits': [3]},\n",
       " {'name': 'rz', 'params': [2.441265436959791], 'qubits': [3]},\n",
       " {'name': 'sx', 'qubits': [3]},\n",
       " {'name': 'rz', 'params': [1.5707963267948966], 'qubits': [3]},\n",
       " {'name': 'cx', 'qubits': [1, 3]},\n",
       " {'name': 'sx', 'qubits': [1]},\n",
       " {'name': 'rz', 'params': [2.441265436959791], 'qubits': [1]},\n",
       " {'name': 'sx', 'qubits': [1]},\n",
       " {'name': 'rz', 'params': [1.5707963267948966], 'qubits': [1]},\n",
       " {'name': 'delay', 'params': [320], 'qubits': [3]},\n",
       " {'name': 'x', 'qubits': [5]},\n",
       " {'name': 'delay', 'params': [2880], 'qubits': [5]},\n",
       " {'qubits': [5], 'name': 'x'},\n",
       " {'name': 'delay', 'params': [2880], 'qubits': [5]},\n",
       " {'name': 'delay', 'params': [368], 'qubits': [6]},\n",
       " {'name': 'x', 'qubits': [6]},\n",
       " {'name': 'delay', 'params': [608], 'qubits': [6]},\n",
       " {'name': 'x', 'qubits': [6]},\n",
       " {'qubits': [6], 'name': 'delay', 'params': [208]},\n",
       " {'name': 'delay', 'params': [1360], 'qubits': [6]},\n",
       " {'name': 'x', 'qubits': [6]},\n",
       " {'name': 'delay', 'params': [2560], 'qubits': [6]},\n",
       " {'name': 'x', 'qubits': [6]},\n",
       " {'name': 'delay', 'params': [1200], 'qubits': [6]},\n",
       " {'name': 'delay', 'params': [864], 'qubits': [6]},\n",
       " {'name': 'x', 'qubits': [6]},\n",
       " {'name': 'delay', 'params': [1600], 'qubits': [6]},\n",
       " {'qubits': [6], 'name': 'x'},\n",
       " {'qubits': [6], 'name': 'delay', 'params': [704]},\n",
       " {'params': [1440], 'qubits': [6], 'name': 'delay'},\n",
       " {'name': 'x', 'qubits': [6]},\n",
       " {'name': 'delay', 'params': [2720], 'qubits': [6]},\n",
       " {'name': 'x', 'qubits': [6]},\n",
       " {'name': 'delay', 'params': [1280], 'qubits': [6]},\n",
       " {'name': 'sx', 'qubits': [6]},\n",
       " {'name': 'rz', 'params': [5.582858090549584], 'qubits': [6]},\n",
       " {'name': 'sx', 'qubits': [6]},\n",
       " {'name': 'rz', 'params': [1.5707963267948966], 'qubits': [6]},\n",
       " {'name': 'barrier', 'qubits': [2, 5, 1, 4, 3, 0, 6]},\n",
       " {'name': 'measure', 'memory': [0], 'qubits': [6]},\n",
       " {'name': 'measure', 'memory': [1], 'qubits': [5]},\n",
       " {'name': 'measure', 'memory': [2], 'qubits': [2]},\n",
       " {'name': 'measure', 'memory': [3], 'qubits': [1]},\n",
       " {'name': 'measure', 'memory': [4], 'qubits': [0]},\n",
       " {'name': 'measure', 'memory': [5], 'qubits': [3]}]"
      ]
     },
     "execution_count": 76,
     "metadata": {},
     "output_type": "execute_result"
    }
   ],
   "source": [
    "jobs[0].circuits()[0][\"experiments\"][0][\"instructions\"]"
   ]
  },
  {
   "cell_type": "code",
   "execution_count": 45,
   "metadata": {
    "execution": {
     "iopub.execute_input": "2023-04-19T04:21:00.267930Z",
     "iopub.status.busy": "2023-04-19T04:21:00.267559Z",
     "iopub.status.idle": "2023-04-19T04:21:00.272181Z",
     "shell.execute_reply": "2023-04-19T04:21:00.270902Z",
     "shell.execute_reply.started": "2023-04-19T04:21:00.267902Z"
    }
   },
   "outputs": [],
   "source": [
    "from openqaoa.backends.cost_function import cost_function\n",
    "cost_value = []"
   ]
  },
  {
   "cell_type": "code",
   "execution_count": 9,
   "metadata": {
    "execution": {
     "iopub.execute_input": "2023-04-19T03:07:02.276691Z",
     "iopub.status.busy": "2023-04-19T03:07:02.276219Z",
     "iopub.status.idle": "2023-04-19T03:07:02.285906Z",
     "shell.execute_reply": "2023-04-19T03:07:02.284776Z",
     "shell.execute_reply.started": "2023-04-19T03:07:02.276656Z"
    }
   },
   "outputs": [
    {
     "data": {
      "text/plain": [
       "(-6.0, ['010110', '101001'])"
      ]
     },
     "execution_count": 9,
     "metadata": {},
     "output_type": "execute_result"
    }
   ],
   "source": [
    "from openqaoa.utilities import ground_state_hamiltonian\n",
    "ground_state_hamiltonian(qubo.hamiltonian)"
   ]
  },
  {
   "cell_type": "code",
   "execution_count": 10,
   "metadata": {
    "execution": {
     "iopub.execute_input": "2023-04-19T03:07:04.505910Z",
     "iopub.status.busy": "2023-04-19T03:07:04.505101Z",
     "iopub.status.idle": "2023-04-19T03:07:04.514683Z",
     "shell.execute_reply": "2023-04-19T03:07:04.513872Z",
     "shell.execute_reply.started": "2023-04-19T03:07:04.505878Z"
    }
   },
   "outputs": [],
   "source": [
    "q_sim = QAOA()\n",
    "q_sim.set_device(create_device('local','qiskit.shot_simulator'))\n",
    "q_sim.set_backend_properties(n_shots=2000)\n",
    "q_sim.set_circuit_properties(param_type=\"standard\",init_type=\"ramp\")\n",
    "q_sim.set_classical_optimizer(maxiter=20, method='COBYLA')\n",
    "q_sim.compile(qubo)"
   ]
  },
  {
   "cell_type": "code",
   "execution_count": 11,
   "metadata": {
    "execution": {
     "iopub.execute_input": "2023-04-19T03:07:05.789204Z",
     "iopub.status.busy": "2023-04-19T03:07:05.788564Z",
     "iopub.status.idle": "2023-04-19T03:07:06.059063Z",
     "shell.execute_reply": "2023-04-19T03:07:06.058037Z",
     "shell.execute_reply.started": "2023-04-19T03:07:05.789173Z"
    }
   },
   "outputs": [],
   "source": [
    "q_sim.optimize()"
   ]
  },
  {
   "cell_type": "code",
   "execution_count": 12,
   "metadata": {
    "execution": {
     "iopub.execute_input": "2023-04-19T03:07:06.665856Z",
     "iopub.status.busy": "2023-04-19T03:07:06.665430Z",
     "iopub.status.idle": "2023-04-19T03:07:07.061103Z",
     "shell.execute_reply": "2023-04-19T03:07:07.059990Z",
     "shell.execute_reply.started": "2023-04-19T03:07:06.665828Z"
    }
   },
   "outputs": [
    {
     "data": {
      "image/png": "[encoded data removed]",
      "text/plain": [
       "<Figure size 1000x800 with 1 Axes>"
      ]
     },
     "metadata": {},
     "output_type": "display_data"
    }
   ],
   "source": [
    "q_sim.result.plot_cost()"
   ]
  },
  {
   "cell_type": "code",
   "execution_count": 13,
   "metadata": {
    "execution": {
     "iopub.execute_input": "2023-04-19T03:07:10.034788Z",
     "iopub.status.busy": "2023-04-19T03:07:10.034393Z",
     "iopub.status.idle": "2023-04-19T03:07:10.842254Z",
     "shell.execute_reply": "2023-04-19T03:07:10.841294Z",
     "shell.execute_reply.started": "2023-04-19T03:07:10.034759Z"
    }
   },
   "outputs": [
    {
     "data": {
      "image/png": "[encoded data removed]",
      "text/plain": [
       "<Figure size 2000x500 with 1 Axes>"
      ]
     },
     "execution_count": 13,
     "metadata": {},
     "output_type": "execute_result"
    }
   ],
   "source": [
    "optimized_angles = q_sim.result.optimized[\"angles\"]\n",
    "\n",
    "#set variate angles with optimized value\n",
    "q_sim.variate_params.update_from_raw(optimized_angles)\n",
    "\n",
    "opt_counts_sim = q_sim.backend.get_counts(q_sim.variate_params)\n",
    "plot_histogram(opt_counts_sim, figsize=(20,5))"
   ]
  },
  {
   "cell_type": "code",
   "execution_count": 15,
   "metadata": {
    "execution": {
     "iopub.execute_input": "2023-04-19T03:07:40.977249Z",
     "iopub.status.busy": "2023-04-19T03:07:40.976742Z",
     "iopub.status.idle": "2023-04-19T03:07:40.982193Z",
     "shell.execute_reply": "2023-04-19T03:07:40.981226Z",
     "shell.execute_reply.started": "2023-04-19T03:07:40.977218Z"
    }
   },
   "outputs": [],
   "source": [
    "fire_device = create_device('qctrl',\n",
    "                    name='ibm_lagos',\n",
    "                    hub='ibm-q-startup',\n",
    "                    group='entropica-labs',\n",
    "                    project='reservations')"
   ]
  },
  {
   "cell_type": "code",
   "execution_count": 19,
   "metadata": {
    "execution": {
     "iopub.execute_input": "2023-04-19T03:09:16.943903Z",
     "iopub.status.busy": "2023-04-19T03:09:16.943155Z",
     "iopub.status.idle": "2023-04-19T03:09:16.948850Z",
     "shell.execute_reply": "2023-04-19T03:09:16.947974Z",
     "shell.execute_reply.started": "2023-04-19T03:09:16.943870Z"
    }
   },
   "outputs": [],
   "source": [
    "q = QAOA()\n",
    "q.set_device(fire_device)\n",
    "q.set_circuit_properties(param_type=\"standard\",init_type=\"ramp\")\n",
    "q.set_backend_properties(n_shots=2000)\n",
    "q.set_classical_optimizer(method=\"COBYLA\", maxiter=19)"
   ]
  },
  {
   "cell_type": "code",
   "execution_count": 20,
   "metadata": {
    "execution": {
     "iopub.execute_input": "2023-04-19T03:09:18.421397Z",
     "iopub.status.busy": "2023-04-19T03:09:18.420686Z",
     "iopub.status.idle": "2023-04-19T03:10:33.825528Z",
     "shell.execute_reply": "2023-04-19T03:10:33.824528Z",
     "shell.execute_reply.started": "2023-04-19T03:09:18.421367Z"
    }
   },
   "outputs": [],
   "source": [
    "q.compile(qubo)"
   ]
  },
  {
   "cell_type": "markdown",
   "metadata": {},
   "source": [
    "## Experiment running OpenQAOA computations using FireOpal on IBMQ"
   ]
  },
  {
   "cell_type": "code",
   "execution_count": null,
   "metadata": {
    "execution": {
     "iopub.execute_input": "2023-04-19T03:11:23.689203Z",
     "iopub.status.busy": "2023-04-19T03:11:23.688770Z"
    }
   },
   "outputs": [],
   "source": [
    "q.optimize()"
   ]
  },
  {
   "cell_type": "code",
   "execution_count": 1,
   "metadata": {
    "execution": {
     "iopub.execute_input": "2023-04-18T07:28:35.315557Z",
     "iopub.status.busy": "2023-04-18T07:28:35.307990Z",
     "iopub.status.idle": "2023-04-18T07:28:36.271316Z",
     "shell.execute_reply": "2023-04-18T07:28:36.269997Z",
     "shell.execute_reply.started": "2023-04-18T07:28:35.313086Z"
    }
   },
   "outputs": [
    {
     "ename": "NameError",
     "evalue": "name 'q' is not defined",
     "output_type": "error",
     "traceback": [
      "\u001b[0;31m---------------------------------------------------------------------------\u001b[0m",
      "\u001b[0;31mNameError\u001b[0m                                 Traceback (most recent call last)",
      "Cell \u001b[0;32mIn[1], line 1\u001b[0m\n\u001b[0;32m----> 1\u001b[0m \u001b[43mq\u001b[49m\u001b[38;5;241m.\u001b[39mdumps()\n",
      "\u001b[0;31mNameError\u001b[0m: name 'q' is not defined"
     ]
    }
   ],
   "source": [
    "q.dumps()"
   ]
  },
  {
   "cell_type": "code",
   "execution_count": null,
   "metadata": {},
   "outputs": [],
   "source": [
    "from openqaoa.backends.cost_function import cost_function\n"
   ]
  },
  {
   "cell_type": "code",
   "execution_count": null,
   "metadata": {},
   "outputs": [],
   "source": [
    "q.dump(\"Test_optimization_using_FireOpal\")"
   ]
  },
  {
   "cell_type": "markdown",
   "metadata": {},
   "source": [
    "## Solving Maxcut using FireOpal `solve_qaoa`"
   ]
  },
  {
   "cell_type": "code",
   "execution_count": null,
   "metadata": {},
   "outputs": [],
   "source": [
    "fire_result = fireopal.solve_qaoa(prob.G, \"maxcut\", fire_device_reserved.credentials, fire_device_reserved.device_name)"
   ]
  }
 ],
 "metadata": {
  "kernelspec": {
   "display_name": "OQ_Clone_Apr23",
   "language": "python",
   "name": "oq_clone_apr23"
  },
  "language_info": {
   "codemirror_mode": {
    "name": "ipython",
    "version": 3
   },
   "file_extension": ".py",
   "mimetype": "text/x-python",
   "name": "python",
   "nbconvert_exporter": "python",
   "pygments_lexer": "ipython3",
   "version": "3.10.10"
  }
 },
 "nbformat": 4,
 "nbformat_minor": 4
}
