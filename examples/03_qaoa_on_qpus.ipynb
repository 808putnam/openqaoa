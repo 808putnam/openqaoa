{
 "cells": [
  {
   "cell_type": "markdown",
   "metadata": {},
   "source": [
    "# 03 - Running on the IBMQ cloud simulators, QVM or QPU\n",
    "\n",
    "We have seen examples of running QAOA on mostly simulators. However, we may also want to run them on the the Pyquil's QVM, IBMQ cloud simulators or even the real QPU. We demonstrate here the usage of such devices on OpenQAOA. The cloud devices would require the user to pass a set of credentials provided by the device hosts, for instance, IBMQ credentials for devices hosted on IBMQ cloud. For running computations on Rigetti's devices the user can assign specific device specific arguments (for e.g. `as_qvm`) during the device creation. The users must also remember that they should run `qvm` and `quilc` processes on their machines to use Rigetti simulators. For more information on this, see [Rigetti's docs](https://pyquil-docs.rigetti.com/en/v2.7.0/start.html#setting-up-server-mode-for-pyquil).\n",
    "\n",
    "<!-- We now walk through the above example again, only this time running on the QVM. As in [Simulating Sampling Noise](#nshots), we will calculate the cost function twice - once with 5 samples per point, and once with 1000 samples per point. -->\n",
    "For the purpose of this notebook, we will try to optimize a Number Partition problem. For easy problem creation, we will use the in-built OpenQAOA `NumberPartition` class."
   ]
  },
  {
   "cell_type": "markdown",
   "metadata": {},
   "source": [
    "## Begin by importing necessary modules"
   ]
  },
  {
   "cell_type": "code",
   "execution_count": null,
   "metadata": {
    "ExecuteTime": {
     "end_time": "2022-10-19T06:41:19.718493Z",
     "start_time": "2022-10-19T06:41:16.762214Z"
    }
   },
   "outputs": [],
   "source": [
    "#some regular python libraries\n",
    "import networkx as nx\n",
    "import numpy as np\n",
    "from pprint import pprint\n",
    "import matplotlib.pyplot as plt\n",
    "\n",
    "#import problem classes from OQ for easy problem creation\n",
    "from openqaoa.problems.problem import NumberPartition\n",
    "\n",
    "#import the QAOA workflow model\n",
    "from openqaoa.workflows.optimizer import QAOA\n",
    "\n",
    "#import method to specify the device\n",
    "from openqaoa.devices import create_device\n",
    "\n",
    "#Import IBMQ\n",
    "from qiskit import IBMQ"
   ]
  },
  {
   "cell_type": "markdown",
   "metadata": {},
   "source": [
    "## Step 1: Create a problem instance\n",
    "We begin by creating a random problem instance using the NumberPartition class. \n",
    "\n",
    "We can also visualize the corresponding QUBO and verify that NumberPartition indeed produces a fully-connected QUBO problem with the following the steps:\n",
    "- Extract the Hamiltonian from the QUBO problem\n",
    "- Use the utility function to convert the Hamiltonian into its corresponding graph\n",
    "- Use the graph plotter to visualize the obtained graph. \n",
    "\n",
    "NOTE: Converting the Hamiltonian to a graph loses information on the constant factor"
   ]
  },
  {
   "cell_type": "code",
   "execution_count": null,
   "metadata": {
    "ExecuteTime": {
     "end_time": "2022-10-19T06:41:19.726135Z",
     "start_time": "2022-10-19T06:41:19.723056Z"
    }
   },
   "outputs": [],
   "source": [
    "# Find partition of a list of 8 numbers generated randomly\n",
    "np = NumberPartition.random_instance(n_numbers=6)\n",
    "np_qubo = np.get_qubo_problem()"
   ]
  },
  {
   "cell_type": "code",
   "execution_count": null,
   "metadata": {
    "ExecuteTime": {
     "end_time": "2022-10-19T06:41:19.887198Z",
     "start_time": "2022-10-19T06:41:19.727950Z"
    }
   },
   "outputs": [],
   "source": [
    "# visualize the QUBO form on a graph\n",
    "from openqaoa.utilities import plot_graph, graph_from_hamiltonian\n",
    "\n",
    "#extract Hamiltonain\n",
    "cost_hamil = np_qubo.hamiltonian\n",
    "\n",
    "#convert Hamiltonian to graph\n",
    "cost_gr = graph_from_hamiltonian(cost_hamil)\n",
    "\n",
    "#plot the graph\n",
    "plot_graph(cost_gr)"
   ]
  },
  {
   "cell_type": "code",
   "execution_count": null,
   "metadata": {
    "ExecuteTime": {
     "end_time": "2022-10-19T06:41:19.892338Z",
     "start_time": "2022-10-19T06:41:19.888754Z"
    }
   },
   "outputs": [],
   "source": [
    "print(np_qubo.asdict())"
   ]
  },
  {
   "cell_type": "markdown",
   "metadata": {},
   "source": [
    " Extract the exact solution\n",
    "\n"
   ]
  },
  {
   "cell_type": "code",
   "execution_count": null,
   "metadata": {
    "ExecuteTime": {
     "end_time": "2022-10-19T06:41:19.901446Z",
     "start_time": "2022-10-19T06:41:19.894285Z"
    }
   },
   "outputs": [],
   "source": [
    "# import the brute-force solver to obtain exact solution\n",
    "from openqaoa.utilities import ground_state_hamiltonian\n",
    "\n",
    "energy, configuration = ground_state_hamiltonian(cost_hamil)\n",
    "print(f\"Ground State energy: {energy}, Solution: {configuration}\")"
   ]
  },
  {
   "cell_type": "markdown",
   "metadata": {},
   "source": [
    "## Step 2: Build the QAOA model on QPUs and cloud simulators\n",
    "\n",
    " - Initialize the model (with default parameters)\n",
    " - Optionally set the following properties for the model\n",
    "     - `model.set_device(...)`: Set the device\n",
    "         - The device properties include the location of the device `[local, qcs, ibmq]` and the device name. Full list of devices available at              `openqaoa.workflows.parameters.qaoa_parameters.ALLOWED_DEVICES`\n",
    "     - `model.set_circuit_properties(...)`: Sets the circuit properties. Mainly used for:\n",
    "         - `p`: the number of layers\n",
    "         - `param_type`: the desired parameterisation to be chosen between `['standard', 'extended', 'fourier', annealing]`\n",
    "         - `init_type`: the initialisation strategy for param_type. To be chosen between `['ramp', 'random', 'custom']`\n",
    "     - `model.set_backend_properties(...)`\n",
    "     - `model.set_classical_optimizer(...)`\n",
    "\n",
    "\n",
    "    \n",
    "For more details on the configurable properties, please refer to the documentation"
   ]
  },
  {
   "cell_type": "markdown",
   "metadata": {},
   "source": [
    "Demo for IBMQ cloud simulators and QPUs"
   ]
  },
  {
   "cell_type": "code",
   "execution_count": null,
   "metadata": {
    "ExecuteTime": {
     "end_time": "2022-10-19T06:41:19.906918Z",
     "start_time": "2022-10-19T06:41:19.903766Z"
    }
   },
   "outputs": [],
   "source": [
    "qpu_credentials ={\n",
    "    \"api_token\":'token'\n",
    "    \"hub\": \"ibm-q\",\n",
    "    \"group\": \"open\", \n",
    "    \"project\": \"main\"\n",
    "}"
   ]
  },
  {
   "cell_type": "markdown",
   "metadata": {},
   "source": [
    "To make our tests run, we load our own credentials through the test-credentials :) "
   ]
  },
  {
   "cell_type": "code",
   "execution_count": null,
   "metadata": {
    "ExecuteTime": {
     "end_time": "2022-10-19T06:41:20.034065Z",
     "start_time": "2022-10-19T06:41:20.030893Z"
    }
   },
   "outputs": [],
   "source": [
    "# import json\n",
    "# import os\n",
    "# credentials = open('./tests/credentials.json', 'r')\n",
    "\n",
    "# with credentials as f:\n",
    "#     json_obj = json.load(f)['QISKIT']\n",
    "    \n",
    "# qpu_credentials = {k.lower(): v for k, v in json_obj.items()}"
   ]
  },
  {
   "cell_type": "markdown",
   "metadata": {},
   "source": [
    "hub,group and project can be specified during `save_account` or when `create_device` is called later. Note that if the values that are passed into `create_device` take precendent"
   ]
  },
  {
   "cell_type": "code",
   "execution_count": null,
   "metadata": {},
   "outputs": [],
   "source": [
    "# overwrite is optional. It ensures that only 1 account exists.\n",
    "# This only needs to be done once in a session.\n",
    "IBMQ.save_account(token=qpu_credentials.pop('api_token'), overwrite=True)"
   ]
  },
  {
   "cell_type": "code",
   "execution_count": null,
   "metadata": {
    "ExecuteTime": {
     "end_time": "2022-10-19T06:41:20.045470Z",
     "start_time": "2022-10-19T06:41:20.043009Z"
    }
   },
   "outputs": [],
   "source": [
    "# initialize model with default configurations\n",
    "q_qiskit = QAOA()"
   ]
  },
  {
   "cell_type": "code",
   "execution_count": null,
   "metadata": {
    "ExecuteTime": {
     "end_time": "2022-10-19T06:41:20.051201Z",
     "start_time": "2022-10-19T06:41:20.047078Z"
    }
   },
   "outputs": [],
   "source": [
    "# device. If qpu_crendetials is not specified,the default hub, group and provider is used.\n",
    "qiskit_cloud = create_device(location='ibmq', name='ibm_oslo', **qpu_credentials)\n",
    "q_qiskit.set_device(qiskit_cloud)\n",
    "\n",
    "# circuit properties\n",
    "q_qiskit.set_circuit_properties(p=1, param_type='standard', init_type='rand', mixer_hamiltonian='x')\n",
    "\n",
    "# backend properties (already set by default)\n",
    "q_qiskit.set_backend_properties(prepend_state=None, append_state=None)\n",
    "\n",
    "# classical optimizer properties\n",
    "q_qiskit.set_classical_optimizer(method='nelder-mead', maxiter=10, cost_progress=True,\n",
    "                                 parameter_log=True, optimization_progress=True)"
   ]
  },
  {
   "cell_type": "code",
   "execution_count": null,
   "metadata": {
    "tags": []
   },
   "outputs": [],
   "source": [
    "q_qiskit.compile(np_qubo, routing_algo='greedy')"
   ]
  },
  {
   "cell_type": "code",
   "execution_count": null,
   "metadata": {},
   "outputs": [],
   "source": [
    "q_qiskit.backend.parametric_circuit.draw()"
   ]
  },
  {
   "cell_type": "code",
   "execution_count": null,
   "metadata": {},
   "outputs": [],
   "source": [
    "q_qiskit.backend.qaoa_circuit(q_qiskit.variate_params).draw()"
   ]
  },
  {
   "cell_type": "markdown",
   "metadata": {},
   "source": [
    "### Demo for Rigetti QPUs and QVMs"
   ]
  },
  {
   "cell_type": "code",
   "execution_count": null,
   "metadata": {
    "ExecuteTime": {
     "end_time": "2022-10-19T06:41:20.054802Z",
     "start_time": "2022-10-19T06:41:20.052281Z"
    }
   },
   "outputs": [],
   "source": [
    "rigetti_args ={\n",
    "    'as_qvm':True, \n",
    "    'execution_timeout':10,\n",
    "    'compiler_timeout':10\n",
    "}"
   ]
  },
  {
   "cell_type": "code",
   "execution_count": null,
   "metadata": {
    "ExecuteTime": {
     "end_time": "2022-10-19T06:41:20.062343Z",
     "start_time": "2022-10-19T06:41:20.056435Z"
    }
   },
   "outputs": [],
   "source": [
    "# initialize model with default configurations\n",
    "q_pyquil = QAOA()"
   ]
  },
  {
   "cell_type": "code",
   "execution_count": null,
   "metadata": {
    "ExecuteTime": {
     "end_time": "2022-10-19T06:41:20.080981Z",
     "start_time": "2022-10-19T06:41:20.063911Z"
    }
   },
   "outputs": [],
   "source": [
    "n_qubits = np_qubo.n\n",
    "# device\n",
    "rigetti_device = create_device(location='qcs', name=f'{n_qubits}q-qvm', **rigetti_args)\n",
    "\n",
    "q_pyquil.set_device(rigetti_device)\n",
    "\n",
    "# circuit properties\n",
    "q_pyquil.set_circuit_properties(p=2, param_type='standard', init_type='rand', mixer_hamiltonian='x')\n",
    "\n",
    "# backend properties (already set by default)\n",
    "q_pyquil.set_backend_properties(prepend_state=None, append_state=None)\n",
    "\n",
    "# classical optimizer properties\n",
    "q_pyquil.set_classical_optimizer(method='nelder-mead', maxiter=200, cost_progress=True,\n",
    "                                 parameter_log=True, optimization_progress=True)"
   ]
  },
  {
   "cell_type": "markdown",
   "metadata": {},
   "source": [
    "## Step 3: Compile and Optimize\n",
    "\n",
    "- Once the QAOA model is configured, we need to compile it. **Compilation is necessary** because the QAOA solver has to interact with the problem in to be able to create the underlying QAOA circuit.\n",
    "- The problem is ready to be optimized now. The user can call `model.optimize()` to initiate the optimization loop. "
   ]
  },
  {
   "cell_type": "code",
   "execution_count": null,
   "metadata": {
    "ExecuteTime": {
     "end_time": "2022-10-19T06:41:27.106986Z",
     "start_time": "2022-10-19T06:41:20.082536Z"
    }
   },
   "outputs": [],
   "source": [
    "q_qiskit.compile(np_qubo)"
   ]
  },
  {
   "cell_type": "code",
   "execution_count": null,
   "metadata": {
    "ExecuteTime": {
     "end_time": "2022-10-19T06:41:30.832113Z",
     "start_time": "2022-10-19T06:41:27.108848Z"
    }
   },
   "outputs": [],
   "source": [
    "q_pyquil.compile(np_qubo) "
   ]
  },
  {
   "cell_type": "code",
   "execution_count": null,
   "metadata": {
    "ExecuteTime": {
     "end_time": "2022-10-19T06:49:41.817496Z",
     "start_time": "2022-10-19T06:41:30.833779Z"
    }
   },
   "outputs": [],
   "source": [
    "q_qiskit.optimize()"
   ]
  },
  {
   "cell_type": "code",
   "execution_count": null,
   "metadata": {
    "ExecuteTime": {
     "end_time": "2022-10-19T06:54:04.390726Z",
     "start_time": "2022-10-19T06:49:41.819224Z"
    }
   },
   "outputs": [],
   "source": [
    "q_pyquil.optimize()"
   ]
  },
  {
   "cell_type": "markdown",
   "metadata": {},
   "source": [
    "## Step 4: Accessing the results\n",
    "\n",
    "The process of obtaining the results for models with either device looks exactly the same. Therefore, to keep this notebook succinct, we only analyze results produced by one device."
   ]
  },
  {
   "cell_type": "code",
   "execution_count": null,
   "metadata": {
    "ExecuteTime": {
     "end_time": "2022-10-19T06:54:04.393796Z",
     "start_time": "2022-10-19T06:54:04.391978Z"
    }
   },
   "outputs": [],
   "source": [
    "opt_results = q_pyquil.results"
   ]
  },
  {
   "cell_type": "code",
   "execution_count": null,
   "metadata": {
    "ExecuteTime": {
     "end_time": "2022-10-19T06:54:04.567078Z",
     "start_time": "2022-10-19T06:54:04.398505Z"
    }
   },
   "outputs": [],
   "source": [
    "# print the cost history\n",
    "opt_results.plot_cost()"
   ]
  },
  {
   "cell_type": "code",
   "execution_count": null,
   "metadata": {
    "ExecuteTime": {
     "end_time": "2022-10-19T06:54:04.575097Z",
     "start_time": "2022-10-19T06:54:04.571552Z"
    }
   },
   "outputs": [],
   "source": [
    "# prints a large output (commented by default)\n",
    "# pprint(opt_results.intermediate)"
   ]
  },
  {
   "cell_type": "code",
   "execution_count": null,
   "metadata": {
    "ExecuteTime": {
     "end_time": "2022-10-19T06:54:04.587450Z",
     "start_time": "2022-10-19T06:54:04.580729Z"
    }
   },
   "outputs": [],
   "source": [
    "print(opt_results.optimized)"
   ]
  },
  {
   "cell_type": "code",
   "execution_count": null,
   "metadata": {
    "ExecuteTime": {
     "end_time": "2022-10-19T06:54:04.598220Z",
     "start_time": "2022-10-19T06:54:04.593521Z"
    }
   },
   "outputs": [],
   "source": [
    "opt_results.most_probable_states"
   ]
  }
 ],
 "metadata": {
  "kernelspec": {
   "display_name": "TestGreedyQR",
   "language": "python",
   "name": "testgreedyqr"
  },
  "language_info": {
   "codemirror_mode": {
    "name": "ipython",
    "version": 3
   },
   "file_extension": ".py",
   "mimetype": "text/x-python",
   "name": "python",
   "nbconvert_exporter": "python",
   "pygments_lexer": "ipython3",
   "version": "3.10.8"
  },
  "toc": {
   "base_numbering": 1,
   "nav_menu": {},
   "number_sections": true,
   "sideBar": true,
   "skip_h1_title": false,
   "title_cell": "Table of Contents",
   "title_sidebar": "Contents",
   "toc_cell": false,
   "toc_position": {},
   "toc_section_display": true,
   "toc_window_display": false
  },
  "vscode": {
   "interpreter": {
    "hash": "916dbcbb3f70747c44a77c7bcd40155683ae19c65e1c03b4aa3499c5328201f1"
   }
  }
 },
 "nbformat": 4,
 "nbformat_minor": 4
}
